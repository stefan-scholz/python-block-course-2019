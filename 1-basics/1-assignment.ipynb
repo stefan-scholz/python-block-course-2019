{
 "cells": [
  {
   "cell_type": "markdown",
   "metadata": {},
   "source": [
    "# Python Block Course\n",
    "# Assignment 1: Python basics and programming fundamentals"
   ]
  },
  {
   "cell_type": "markdown",
   "metadata": {},
   "source": [
    "Prof. Dr. Karsten Donnay, Stefan Scholz\n",
    "\n",
    "Winter Term 2019 / 2020\n",
    "\n",
    "In this first assignment we will practice how to use Jupyter Notebooks and how to execute Python code. You can score up to 15 points in this assignment. Please submit your solutions inside this notebook in your repository on GitHub. The deadline for submission is on Tuesday, October 15, 09:59 am. You will get individual feedback in your repository."
   ]
  },
  {
   "cell_type": "markdown",
   "metadata": {},
   "source": [
    "## 1.1 Encoding Text"
   ]
  },
  {
   "cell_type": "markdown",
   "metadata": {},
   "source": [
    "Suppose you want to send a secret message. Therefore, you want to use a very simple encoding method called [Ceasar Cipher](https://en.wikipedia.org/wiki/Caesar_cipher). For this, you first have to define which characters you want to send and of couse which message you want to send. We have already prepared an alphabet and a message for you."
   ]
  },
  {
   "cell_type": "code",
   "execution_count": null,
   "metadata": {},
   "outputs": [],
   "source": [
    "# define characters you want to use\n",
    "alphabet = list(\"abcdefghijklmnopqrstuvwxyzABCDEFGHIJKLMNOPQRSTUVWXYZ .\")"
   ]
  },
  {
   "cell_type": "code",
   "execution_count": null,
   "metadata": {},
   "outputs": [],
   "source": [
    "# define message you want to send\n",
    "message = \"Mission accomplished. Meeting point is Mailand. I will wear a black coat.\""
   ]
  },
  {
   "cell_type": "markdown",
   "metadata": {},
   "source": [
    "To get a encoded alphabet we need to shift our alphabet by a certain amount of characters. Therefore we can use a combination of **pop()** and **append()**. We have already prepared some code to move the alphabet by three characters. "
   ]
  },
  {
   "cell_type": "markdown",
   "metadata": {},
   "source": [
    "<div class=\"alert alert-block alert-info\">\n",
    "<b>Exercise (2 Points)</b>: Try to understand the following code. To increase the security level, increase the shift to a value greater than three characters.\n",
    "</div>"
   ]
  },
  {
   "cell_type": "code",
   "execution_count": null,
   "metadata": {},
   "outputs": [],
   "source": [
    "# define characters you want to use for encoding\n",
    "alphabet_encoded = list(alphabet)\n",
    "\n",
    "# shift alphabet\n",
    "for i in range(3):\n",
    "    alphabet_encoded.append(alphabet_encoded.pop(0))\n",
    "\n",
    "# print encoded alphabet\n",
    "print(alphabet_encoded)"
   ]
  },
  {
   "cell_type": "markdown",
   "metadata": {},
   "source": [
    "You have an encoded alphabet now. But in order to encode your message easily, you still need a table or dictionary, in which you encode from the normal alphabet to the encoded one. We have already prepared this dictionary and encoded the original message. "
   ]
  },
  {
   "cell_type": "code",
   "execution_count": null,
   "metadata": {},
   "outputs": [],
   "source": [
    "# define dictionary with original and encoded alphabet\n",
    "encoder = dict(zip(alphabet, alphabet_encoded))\n",
    "\n",
    "# encode message\n",
    "message_encoded = \"\"\n",
    "for letter in message:\n",
    "    message_encoded += encoder[letter]\n",
    "    \n",
    "# print encoded message\n",
    "print(message_encoded)"
   ]
  },
  {
   "cell_type": "markdown",
   "metadata": {},
   "source": [
    "<div class=\"alert alert-block alert-info\">\n",
    "<b>Exercise (13 Points)</b>: Suppose you receive the encoded message and know the number of characters shifted, decode the message.\n",
    "</div>"
   ]
  },
  {
   "cell_type": "code",
   "execution_count": null,
   "metadata": {},
   "outputs": [],
   "source": []
  },
  {
   "cell_type": "code",
   "execution_count": null,
   "metadata": {},
   "outputs": [],
   "source": []
  }
 ],
 "metadata": {
  "kernelspec": {
   "display_name": "Python 3",
   "language": "python",
   "name": "python3"
  },
  "language_info": {
   "codemirror_mode": {
    "name": "ipython",
    "version": 3
   },
   "file_extension": ".py",
   "mimetype": "text/x-python",
   "name": "python",
   "nbconvert_exporter": "python",
   "pygments_lexer": "ipython3",
   "version": "3.6.8"
  }
 },
 "nbformat": 4,
 "nbformat_minor": 4
}
