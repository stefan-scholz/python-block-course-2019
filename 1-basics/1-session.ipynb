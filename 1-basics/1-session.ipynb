{
 "cells": [
  {
   "cell_type": "markdown",
   "metadata": {},
   "source": [
    "# Python Block Course\n",
    "# Session 1: Python basics and programming fundamentals"
   ]
  },
  {
   "cell_type": "markdown",
   "metadata": {},
   "source": [
    "Prof. Dr. Karsten Donnay, Stefan Scholz\n",
    "\n",
    "Winter Term 2019 / 2020\n",
    "\n",
    "In this first session we will learn how to use **Jupyter Notebooks** and how to execute Python code. Furthermore, by doing so we will see how basic **functions** are executed, information is stored in **variables** and code is structured with **conditional** and **control flow statements**. "
   ]
  },
  {
   "cell_type": "markdown",
   "metadata": {},
   "source": [
    "## 1.1 Python"
   ]
  },
  {
   "cell_type": "markdown",
   "metadata": {},
   "source": [
    "<img src=\"docs/python.png\" style=\"height:10em\"> "
   ]
  },
  {
   "cell_type": "markdown",
   "metadata": {},
   "source": [
    "**Python** is a **programming language** that enjoys great popularity because of **various advantages**. Some advantages are: \n",
    "\n",
    "- Fast to Learn\n",
    "- Easy to Write\n",
    "- Flexible\n",
    "- Extensive Library Support\n",
    "- Hidden Low-Level Aspects of Computer Architecture\n",
    "\n",
    "This makes **Python** an ideal basis for **beginners** like us to start programming because of its **simplicity**. But beyond that it is also used by **experts** worldwide, e.g. in **machine learning** and **software development**, because of its **extensive libraries**. "
   ]
  },
  {
   "cell_type": "markdown",
   "metadata": {},
   "source": [
    "## 1.2 Jupyter Lab"
   ]
  },
  {
   "cell_type": "markdown",
   "metadata": {},
   "source": [
    "<img src=\"docs/jupyter.png\" style=\"height:10em\"> "
   ]
  },
  {
   "cell_type": "markdown",
   "metadata": {},
   "source": [
    "**Jupyter Lab** is a very useful **interface** for **Python**. Inside Jupyer Lab you can work with **Jupyter Notebooks**, exactly one like you are looking into right now.  These notebooks are one of the possibilities how to write and execute Python code. The major advantage over others is that code can be **written** very **interactively**, because the entire code can be divided into smaller snippets, and these snippets are directly next to their output. \n",
    "\n",
    "A **Jupyter notebook** consists of separate **text cells** and **code cells**. A **cell** can be **executed** either by clicking on the **play button** in the tool bar on top or by pressing __shift + enter__.\n",
    "\n",
    "If you make a mistake you can always edit the content of a cell and execute it again to update it. You can **insert** additional **cells** by clicking on the **plus button** in the tool bar on top."
   ]
  },
  {
   "cell_type": "code",
   "execution_count": null,
   "metadata": {},
   "outputs": [],
   "source": [
    "1 + 1"
   ]
  },
  {
   "cell_type": "markdown",
   "metadata": {},
   "source": [
    "## 1.3 Calculations"
   ]
  },
  {
   "cell_type": "markdown",
   "metadata": {},
   "source": [
    "As you can see, you can use Python like a **simple calculator**. You can use the **arithmetic operators** `+`, `-`, `*`, `/`  and **parentheses** `()` just like you would expect for a normal calculator. The Python symbol to calculate **powers** is `**`."
   ]
  },
  {
   "cell_type": "markdown",
   "metadata": {},
   "source": [
    "Let us give it a try: What is the result of $\\sqrt{5-3}$?"
   ]
  },
  {
   "cell_type": "code",
   "execution_count": null,
   "metadata": {},
   "outputs": [],
   "source": [
    "(5-3)**(1/2)"
   ]
  },
  {
   "cell_type": "markdown",
   "metadata": {},
   "source": [
    "Although this calculation is very simple, it is always a good idea to write comments about what you are doing. **Comments** in Python start with the **hash character** `#`, and extend to the end of the line. They are not interpreted by Python. "
   ]
  },
  {
   "cell_type": "code",
   "execution_count": null,
   "metadata": {},
   "outputs": [],
   "source": [
    "# calculate result\n",
    "(5-3)**(1/2)"
   ]
  },
  {
   "cell_type": "markdown",
   "metadata": {},
   "source": [
    "## 1.4 Built-In Functions"
   ]
  },
  {
   "cell_type": "markdown",
   "metadata": {},
   "source": [
    "A convenient way to get things done in Python is to use functions. **Functions** are indicated by **round brackets** which are appended directly after the **name** of the **function**. **Inside** the **brackets** the **input** is handed over to the function.\n",
    "\n",
    "We have seen above that after our simple calculation the result is automatically shown, but in pratice it is better if the output is **explicitly called** by a **function**. This is done with the **function** `print()`, which prompts all **inputs** on the **screen**. \n",
    "\n",
    "As we can see, the following code gives us the **same result**, but we make clear that we want to get the **result prompted**. "
   ]
  },
  {
   "cell_type": "code",
   "execution_count": null,
   "metadata": {},
   "outputs": [],
   "source": [
    "# print result\n",
    "print((5-3)**(1/2))"
   ]
  },
  {
   "cell_type": "markdown",
   "metadata": {},
   "source": [
    "However, the function `print()` can do much more that just prompt simple inputs. It allows you to combine **multiple inputs**, either as **list** of **inputs** or as a **formatted string**. "
   ]
  },
  {
   "cell_type": "code",
   "execution_count": null,
   "metadata": {},
   "outputs": [],
   "source": [
    "# print as list of inputs\n",
    "print(\"The result is:\", (5-3)**(1/2))"
   ]
  },
  {
   "cell_type": "code",
   "execution_count": null,
   "metadata": {},
   "outputs": [],
   "source": [
    "# print as formatted string\n",
    "print(\"The result is: {}\".format((5-3)**(1/2)))"
   ]
  },
  {
   "cell_type": "markdown",
   "metadata": {},
   "source": [
    "What else you can do with the function `print()`, you can find out with another function: The **function** `help()` gives you the **purpose** of a function, its **input parameters** and **descriptions**.\n",
    "\n",
    "The **help** for the function `print()` looks as follows, where **value** are the **input arguments** we have given into the function so far. "
   ]
  },
  {
   "cell_type": "code",
   "execution_count": null,
   "metadata": {},
   "outputs": [],
   "source": [
    "help(print)"
   ]
  },
  {
   "cell_type": "markdown",
   "metadata": {},
   "source": [
    "If you **do not know** a certain function, or if you are **uncertain**, then please use the **function** `help()` or check it on the **internet**. \n",
    "\n",
    "To name a few more functions besides `print()` and `help()`, these are also **popular functions**:\n",
    "\n",
    "| Function | Purpose |\n",
    "| -------- | ------- |\n",
    "| `abs()` | absolute value of the argument |\n",
    "| `dir()` | list of arguments and methods |\n",
    "| `len()` | number of items in a container |\n",
    "| `max()` | with a single iterable argument, return its biggest item |\n",
    "| `min()` | With a single iterable argument, return its smallest item |\n",
    "| `open()` | open file and return a stream |\n",
    "| `range()` | produces a sequence of integers from start (inclusive) to stop (exclusive) by step |\n",
    "| `round()` | round a number to a given precision in decimal digits (default 0 digits) |\n",
    "| `sorted()` | new list containing all items from the iterable in ascending order |\n",
    "| `sum()` | sum of iterable of numbers|\n",
    "| `type()` | objects type |\n",
    "| `zip()` | tuple where the i-th element comes from the i-th iterable argument |\n",
    "\n",
    "For a **complete list** of **functions** which are **always available** in the Python interpreter, please have a look at the [Python documentation](https://docs.python.org/3/library/functions.html)."
   ]
  },
  {
   "cell_type": "markdown",
   "metadata": {},
   "source": [
    "## 1.5 Variables"
   ]
  },
  {
   "cell_type": "markdown",
   "metadata": {},
   "source": [
    "For more complex calculations it is convenient to **store numbers** as **variables**. As a **variable name**, any combination of letters, numbers, and underscores which is not starting with a number can be used in principle. For **readability** purposes, it is recommended to use lowercase words separated by underscores as variable names. The **equals sign** `=` is used to **assign** a value to a variable."
   ]
  },
  {
   "cell_type": "markdown",
   "metadata": {},
   "source": [
    "Let us try it with variables again: What is the result of $\\sqrt{5-3}$?"
   ]
  },
  {
   "cell_type": "code",
   "execution_count": null,
   "metadata": {},
   "outputs": [],
   "source": [
    "# define variables\n",
    "base = 5 - 3\n",
    "exponent = 1 / 2\n",
    "\n",
    "# calculate result\n",
    "result = base ** exponent\n",
    "\n",
    "# print result\n",
    "print(result)"
   ]
  },
  {
   "cell_type": "markdown",
   "metadata": {},
   "source": [
    "Note, that the `=` in code is similar to the equal sign `=` in math, but it is not quite the same. Python always evaluates **code** on the **right** of the equal sign and **assigns** it to the **variable** on the **left**. \n",
    "\n",
    "So while the first snippet works, the second one does not: "
   ]
  },
  {
   "cell_type": "code",
   "execution_count": null,
   "metadata": {},
   "outputs": [],
   "source": [
    "# define variable correctly\n",
    "base = 5 - 3"
   ]
  },
  {
   "cell_type": "code",
   "execution_count": null,
   "metadata": {},
   "outputs": [],
   "source": [
    "# define variable incorrectly\n",
    "5 - 3 = base"
   ]
  },
  {
   "cell_type": "markdown",
   "metadata": {},
   "source": [
    "However, **variables** can also be used on the **right side**. Note, that the right side is evaluated first and then assigned to the variable. "
   ]
  },
  {
   "cell_type": "code",
   "execution_count": null,
   "metadata": {},
   "outputs": [],
   "source": [
    "# define base with right side variable\n",
    "base = 5\n",
    "base = base - 3\n",
    "\n",
    "# print base\n",
    "print(base)"
   ]
  },
  {
   "cell_type": "markdown",
   "metadata": {},
   "source": [
    "Here, we took the value of `base`, subtracted 3 from it and then assigned the result back to the same variable name `base`. As a **shortcut** for such an operation we can use the operator for **subtraction assignment** `-=`. "
   ]
  },
  {
   "cell_type": "code",
   "execution_count": null,
   "metadata": {},
   "outputs": [],
   "source": [
    "# define base with subtraction assignment\n",
    "base = 5\n",
    "base -= 3\n",
    "\n",
    "# print base\n",
    "print(base)"
   ]
  },
  {
   "cell_type": "markdown",
   "metadata": {},
   "source": [
    "This **shortcut** works for all common **operators** with so-called **assignment operators**: \n",
    "\n",
    "| Operator | Description |\n",
    "| -------- | ------- |\n",
    "| `+=` | adds right side to left variable and assigns the result to left variable |\n",
    "| `-=` | subtracts right side from left variable and assigns the result to left variable |\n",
    "| `*=` | multiplies right side to left variable and assigns the result to left variable |\n",
    "| `/=` | divides right side from left variable and assigns the result to left variable |\n"
   ]
  },
  {
   "cell_type": "markdown",
   "metadata": {},
   "source": [
    "As we said earlier, always make sure that your variable names do not start with a number, are written in lowercase words, seperated by underscores and clearly identify your variable. Pay attentation to their upper and lower case letters as well, because variables names are case sensitive in general. Also make sure that none of your variable names conincides with a **set of keywords** which are reserved and have a specific meaning. \n",
    "\n",
    "The **following set** of **keywords cannot be used** in Python as **variable names**: "
   ]
  },
  {
   "cell_type": "code",
   "execution_count": null,
   "metadata": {},
   "outputs": [],
   "source": [
    "import keyword\n",
    "\n",
    "# print keywords occupied by interpreter\n",
    "print(keyword.kwlist)"
   ]
  },
  {
   "cell_type": "markdown",
   "metadata": {},
   "source": [
    "<div class=\"alert alert-block alert-info\">\n",
    "    <b>Exercise</b>: Compute analytically the sum and average of all integers from 0 to 1,000. Use variables for all intermediate results. Print your results.\n",
    "</div>"
   ]
  },
  {
   "cell_type": "code",
   "execution_count": null,
   "metadata": {},
   "outputs": [],
   "source": []
  },
  {
   "cell_type": "code",
   "execution_count": null,
   "metadata": {},
   "outputs": [],
   "source": []
  },
  {
   "cell_type": "markdown",
   "metadata": {},
   "source": [
    "<div class=\"alert alert-block alert-info\">\n",
    "    <b>Exercise</b>: Compute numerically the sum and average of all integers from 0 to 1,000. Use variables for all intermediate results. Print your results.\n",
    "</div>"
   ]
  },
  {
   "cell_type": "code",
   "execution_count": null,
   "metadata": {},
   "outputs": [],
   "source": []
  },
  {
   "cell_type": "code",
   "execution_count": null,
   "metadata": {},
   "outputs": [],
   "source": []
  },
  {
   "cell_type": "markdown",
   "metadata": {},
   "source": [
    "## 1.6 Data Types"
   ]
  },
  {
   "cell_type": "markdown",
   "metadata": {},
   "source": [
    "In Python, every variable value has a certain **data type**. Actually every data type is a **class** and every **value** is an **instance** of any of these classes. When we declare a variable, we do not need to explicitly mention the data type. This feature is famously known as **dynamic typing**.\n",
    "\n",
    "We will discuss the **standard data types** in Python step by step. But first let us get an **overview** of them all:\n",
    "\n",
    "| Data Type | Description |\n",
    "| -------- | ------- |\n",
    "| `Integer` | integer number |\n",
    "| `Float` | floating point number |\n",
    "| `Boolean` | truth value (either true or false) |\n",
    "| `String` | text |\n",
    "| `Array` | mutable sequence of values with same type |\n",
    "| `Tuple` | immutable sequence of values of any types |\n",
    "| `List` | mutable sequence of values of any types |\n",
    "| `Dictionary` | associative mapping with keys and values |\n",
    "| `Set` | unordered set of distinct values |"
   ]
  },
  {
   "cell_type": "markdown",
   "metadata": {},
   "source": [
    "### Integer and Float"
   ]
  },
  {
   "cell_type": "markdown",
   "metadata": {},
   "source": [
    "Ideally we start with the **numerical types** because we have already got to know them. \n",
    "\n",
    "The first is `Integer` and can hold **whole numbers**, **positive** or **negative**. `Integer` cannot hold decimals. In order use **decimals**, a `Float` must be used. `Float` can also hold positive and negative numbers. \n",
    "\n",
    "Let us try this with an **example**. To verify the **type** of any object, we use the function `type()`."
   ]
  },
  {
   "cell_type": "code",
   "execution_count": null,
   "metadata": {},
   "outputs": [],
   "source": [
    "# define integer number\n",
    "base = 5\n",
    "\n",
    "# check type of integer number\n",
    "print(type(base))"
   ]
  },
  {
   "cell_type": "code",
   "execution_count": null,
   "metadata": {},
   "outputs": [],
   "source": [
    "# define decimal number\n",
    "result = 1.4142\n",
    "\n",
    "# check type of decimal number\n",
    "print(type(result))"
   ]
  },
  {
   "cell_type": "markdown",
   "metadata": {},
   "source": [
    "### Boolean"
   ]
  },
  {
   "cell_type": "markdown",
   "metadata": {},
   "source": [
    "The next data type is of great importance in programming, as we will see with the **conditional** and **control flow statements** today. `Boolean` can hold **truth values**, which are either `True` or `False`. In comparison to the numerical context they behave like `1` and `0`. \n",
    "\n",
    "Let us initialize our **first boolean**. To verify the **type** of any object, we use the function `type()`."
   ]
  },
  {
   "cell_type": "code",
   "execution_count": null,
   "metadata": {},
   "outputs": [],
   "source": [
    "# initialize boolean\n",
    "difficult = False\n",
    "\n",
    "# check type of boolean\n",
    "print(type(difficult))"
   ]
  },
  {
   "cell_type": "code",
   "execution_count": null,
   "metadata": {},
   "outputs": [],
   "source": [
    "# initialize boolean\n",
    "understood = True\n",
    "\n",
    "# check type of boolean\n",
    "print(type(understood))"
   ]
  },
  {
   "cell_type": "markdown",
   "metadata": {},
   "source": [
    "### String"
   ]
  },
  {
   "cell_type": "markdown",
   "metadata": {},
   "source": [
    "We have already seen the next data type too, as we printed text with the function `print()`. In general, **text** can be held in `String`, with the text surrounded either by **single quotation marks** or **double quotation marks**. Accordingly `\"Hello world\"` is the same as `'Hello world'`. To write a `String` over **multiple lines**, you can use **three quotation marks**.\n",
    "\n",
    "Let us write some **first texts**. To **prompt** the texts, we use the function `print()`. To verify the **type** of any object, we use the function `type()`."
   ]
  },
  {
   "cell_type": "code",
   "execution_count": null,
   "metadata": {},
   "outputs": [],
   "source": [
    "# initialize string\n",
    "sentence = \"I love Python!\"\n",
    "\n",
    "# print string\n",
    "print(sentence)\n",
    "\n",
    "# check type of string\n",
    "print(type(sentence))"
   ]
  },
  {
   "cell_type": "code",
   "execution_count": null,
   "metadata": {},
   "outputs": [],
   "source": [
    "# initialize multiline string\n",
    "sentences = \"\"\"I love Python!\n",
    "This is very easy!\"\"\"\n",
    "\n",
    "# print multiline string\n",
    "print(sentences)\n",
    "\n",
    "# check type of multiline string\n",
    "print(type(sentences))"
   ]
  },
  {
   "cell_type": "markdown",
   "metadata": {},
   "source": [
    "Due to the fact that `String` is a **sequence** of **characters**, the **individual characters** can also be accessed using **indexing** and **slicing**. Each letter, number, whitespace or symbol gets its own index. With a **positive index** you can access a `String`, where the index starts with `0` from the **beginning** of the string. With a **negative index** you can also access a string, this is especially helpful if you want to access the **ending** of the `String`. In the negative case the index starts with `-1` at the end of the string. \n",
    "\n",
    "Let us have a look at the **index breakdown** of a string.\n",
    "\n",
    "| Character | I | | l | o| v| e |  | P | y | t | h | o | n | !   \n",
    "| --- | --- | --- | --- | --- | --- | --- | --- | --- | --- | --- | --- | --- | --- | ---\n",
    "| Positive Index | 0 | 1 | 2 | 3 | 4 | 5 | 6 | 7 | 8 | 9 | 10 | 11 | 12 | 13\n",
    "| Negative Index | -14 | -13 | -12 | -11 | -10 | -9 | -8 | -7 | -6 | -5 | -4 | -3 | -2 | -1"
   ]
  },
  {
   "cell_type": "markdown",
   "metadata": {},
   "source": [
    "To access a **single character** within a `String`, we simply take its index and write it in **square brackets** behind the **variable name** where the `String` is stored. \n",
    "\n",
    "Let us try to get the **exclamation mark** out of the previous `String`."
   ]
  },
  {
   "cell_type": "code",
   "execution_count": null,
   "metadata": {},
   "outputs": [],
   "source": [
    "# initialize string\n",
    "sentence = \"I love Python!\"\n",
    "\n",
    "# print character with positive index\n",
    "print(sentence[13])\n",
    "\n",
    "# print character with negative index\n",
    "print(sentence[-1])"
   ]
  },
  {
   "cell_type": "markdown",
   "metadata": {},
   "source": [
    "To access **multiple** (but not all) **characters** in a `String`, you can use the same indexes to make **slices**. With slices, a **range** of **characters** is taken from the actual `String` based on their index numbers. Note that the **first character** at the slice start is **inclusive** and the **last character** at the slice end is **exclusive**. For slicing, the slice start and slice end are again written in **square brackets** behind the **variable name**, where both are separated by a **colon**. If you omit the start slice or the end slice, and use a colon, the `String` is simply used from the beginning or to the end. \n",
    "\n",
    "You can do the same with **negative indexes**, but keep in mind that start and end index are **reversed**, and thus also which **character** is **inclusive** and **exclusive**. We will not go into detail here, just try it yourself. \n",
    "\n",
    "Let us try to extract **some parts** of the previous `String`."
   ]
  },
  {
   "cell_type": "code",
   "execution_count": null,
   "metadata": {},
   "outputs": [],
   "source": [
    "# initialize string\n",
    "sentence = \"I love Python!\"\n",
    "\n",
    "# extract inside characters\n",
    "print(sentence[7:13])\n",
    "\n",
    "# extract beginning characters\n",
    "print(sentence[:7])\n",
    "\n",
    "# extract ending characters\n",
    "print(sentence[7:])"
   ]
  },
  {
   "cell_type": "markdown",
   "metadata": {},
   "source": [
    "### Array"
   ]
  },
  {
   "cell_type": "markdown",
   "metadata": {},
   "source": [
    "In addition to the primitive data types that we have dealt with so far, there are also data types which are rather a collection of these. Traditionally, the `Array` is the first **non-primitive data type** that is dealt with. In general, `Array` in Python are a compact way of **collecting basic data types**, all the entries in an `Array` must be of the **same data type**. However, `Array` is not popularly used in Python and not a build in data type, unlike in other programming languages. To work with them you would need to `import` **additional libraries**.\n",
    "\n",
    "In general, when people talk of an `Array` in Python, they are actually referring to `List`. However, when we will work with the `numpy` library, you will see that there are **fundamental differences** between them. But at this point, we will first discuss what a `List` is."
   ]
  },
  {
   "cell_type": "markdown",
   "metadata": {},
   "source": [
    "### Tuple"
   ]
  },
  {
   "cell_type": "markdown",
   "metadata": {},
   "source": [
    "But before we actually get to `List`, we will discuss another data type that exists in Python. `Tuple` is another **standard sequence data type**. The main difference between `Tuple` and `List` is that `Tuple` is **immutable**, which means once defined you cannot delete, add or edit any values inside it. Due to this property, `Tuple` is mainly suitable for collections which are fixed and will not change. \n",
    "\n",
    "`Tuple` is typed with **round brackets**, `(` and `)`, and its **elements** are separated by a comma `,`. To access certain **values** inside your `Tuple`, you can use their **indexes** again. \n",
    "\n",
    "Let us create our first `Tuple`. To verify the **type** of any object, we use the function `type()`."
   ]
  },
  {
   "cell_type": "code",
   "execution_count": null,
   "metadata": {},
   "outputs": [],
   "source": [
    "# define tuple\n",
    "points = (0, 1, 2, 3, 4, 5, 6, 7, 8, 9, 10)\n",
    "\n",
    "# check type of tuple\n",
    "print(type(points))"
   ]
  },
  {
   "cell_type": "markdown",
   "metadata": {},
   "source": [
    "### List"
   ]
  },
  {
   "cell_type": "markdown",
   "metadata": {},
   "source": [
    "A `List` is a data structure that contains **multiple values** in an **ordered sequence**. These are **mutable**, which means that you can change their content without changing their identity. You can recognize a `List` by its **square brackets** `[` and `]` that hold **elements**, separated by a **comma** `,`. `List` is built into Python: you do not need to invoke them separately.\n",
    "\n",
    "Let us create our first list. To verify the **type** of any object, we use the function `type()`."
   ]
  },
  {
   "cell_type": "code",
   "execution_count": null,
   "metadata": {},
   "outputs": [],
   "source": [
    "# define list of decimal numbers\n",
    "points = [0, 1, 2, 3, 4, 5, 6, 7, 8, 9, 10]\n",
    "\n",
    "# check type of list with decimal numbers\n",
    "print(type(points))"
   ]
  },
  {
   "cell_type": "markdown",
   "metadata": {},
   "source": [
    "A `List` can contain various **elements** of **different data types**, which can be duplicates and `List` again.\n",
    "\n",
    "Let us look at a **worst-case example** to illustrate what is **principally possible**. "
   ]
  },
  {
   "cell_type": "code",
   "execution_count": null,
   "metadata": {},
   "outputs": [],
   "source": [
    "# define list with different data types\n",
    "messy_points = [False, 1, [2, 3, 4, 5, [6, 7, 8, 9]], \"ten\"]\n",
    "\n",
    "# check type of list with different data types\n",
    "print(type(messy_points))"
   ]
  },
  {
   "cell_type": "markdown",
   "metadata": {},
   "source": [
    "Whenever we want to access an individual **element** of a `List` we can do so by typing the **list name** and the **index** of the element in **square brackets**. And if we want to access **multiple elements** in a `List`, then it also remains the same, we can select with **slicing** a start and stop index. Again, indexes start at zero, and may be negative. "
   ]
  },
  {
   "cell_type": "code",
   "execution_count": null,
   "metadata": {},
   "outputs": [],
   "source": [
    "# define list\n",
    "points = [0, 1, 2, 3, 4, 5, 6, 7, 8, 9, 10]\n",
    "\n",
    "# extract one element\n",
    "print(points[-1])\n",
    "\n",
    "# extract multiple elements\n",
    "print(points[:-1])"
   ]
  },
  {
   "cell_type": "markdown",
   "metadata": {},
   "source": [
    "In contrast to a `Tuple`, the **elements** in a `List` can also be **changed afterwards**. How we add and delete elements, we will learn later in the methods section. But we can already discuss here how **elements** inside a `List` can be **changed**. For this, the elements which are supposed to be changed are called with their **index** or **slice** and then assigned to **new elements**. "
   ]
  },
  {
   "cell_type": "code",
   "execution_count": null,
   "metadata": {},
   "outputs": [],
   "source": [
    "# define list\n",
    "points = [0, 1, 2, 3, 4, 5, 6, 7, 8, 9, 10]\n",
    "\n",
    "# overwrite element\n",
    "points[10] = 11\n",
    "points[9] = 8\n",
    "\n",
    "# print list\n",
    "print(points)\n",
    "\n",
    "# modify elements\n",
    "points[9:] = [9, 10]\n",
    "\n",
    "# print list\n",
    "print(points)"
   ]
  },
  {
   "cell_type": "markdown",
   "metadata": {},
   "source": [
    "Another characteristic of `List` is that it cannot be simply copied from variable to variable. Only the **reference** where the `List` is saved is stored in the **variable**. For example, if you copy `list1` to `list2`, all changes made in `list1` will automatically change `list2` too, and vice versa. To actually create a new `list2`, you can pass the original `list1` into the function `list()` to actually **force** a new `List`. \n",
    "\n",
    "Let us take a look at a **common problem** with **references**."
   ]
  },
  {
   "cell_type": "code",
   "execution_count": null,
   "metadata": {},
   "outputs": [],
   "source": [
    "# define list\n",
    "points = [0, 1, 2, 3, 4, 5, 6, 7, 8, 9, 10]\n",
    "\n",
    "# create new list\n",
    "new_points = [0, 1, 2, 3, 4, 5, 6, 7, 8, 9, 10]\n",
    "\n",
    "# modify new list\n",
    "points[10] = 11\n",
    "\n",
    "# print original list\n",
    "print(points)"
   ]
  },
  {
   "cell_type": "markdown",
   "metadata": {},
   "source": [
    "### Dictionary"
   ]
  },
  {
   "cell_type": "markdown",
   "metadata": {},
   "source": [
    "Like a `List`, a `Dictionary` is a **collection** of **many values**. Unlike `List`, which is indexed by a range of numbers, `Dictionary` is indexed by keys. **Keys** for `Dictionary` can use many different data types, not just integers. It is best to think of a dictionary as an **unordered set** of **key-value-pairs**, with the requirement that the **keys** are **unique** (within one dictionary). A pair of **curly brackets** creates an empty `Dictionary`: `{` and `}`. In them you can add as many **key-value-pairs** as you like, each written in the notation `key: value`, and separated by **commas** `,`. \n",
    "\n",
    "`Dictionary` is exactly what you need if you want to implement something similar to a **telephone book**. None of the data structures that you have seen before are suitable for a telephone book.\n",
    "\n",
    "Let us create our first `Dictionary`. To verify the **type** of any object, we use the function `type()`."
   ]
  },
  {
   "cell_type": "code",
   "execution_count": null,
   "metadata": {},
   "outputs": [],
   "source": [
    "# define dictionary\n",
    "happy = {\"no\": [0, 1, 2, 3, 4], \"yes\": [5, 6, 7, 8, 9, 10]}\n",
    "\n",
    "# check type of dictionary\n",
    "print(type(happy))"
   ]
  },
  {
   "cell_type": "markdown",
   "metadata": {},
   "source": [
    "If we want to **access** a certain **value** inside a `Dictionary`, then we can access it by typing the **dictionary name** followed by the corresponding **key** inside **square brackets**. \n",
    "\n",
    "Let us try to get the **value** in a `Dictionary` based on its **key**."
   ]
  },
  {
   "cell_type": "code",
   "execution_count": null,
   "metadata": {},
   "outputs": [],
   "source": [
    "# define dictionary\n",
    "happy = {\"no\": [0, 1, 2, 3, 4], \"yes\": [5, 6, 7, 8, 9, 10]}\n",
    "\n",
    "# print value\n",
    "print(happy[\"yes\"])"
   ]
  },
  {
   "cell_type": "markdown",
   "metadata": {},
   "source": [
    "Just like in a `List`, you can change and add elements in a `Dictionary` afterwards. To change the value of an **existing key**, the position of the **key** in the `Dictionary` can be **overwritten**. We have already seen how this works with a `List`. In addition, **new keys** can be added by simply adding a new key to the dictionary using the **key** as **index** and assigning it to the corresponding **value**. \n",
    "\n",
    "Let us try to **change** an **existing dictionary**. "
   ]
  },
  {
   "cell_type": "code",
   "execution_count": null,
   "metadata": {},
   "outputs": [],
   "source": [
    "# define dictionary\n",
    "happy = {\"no\": [0, 1, 2, 3, 4], \"yes\": [5, 6, 7, 8, 9, 10]}\n",
    "\n",
    "# modify existing key-value-pair\n",
    "happy[\"yes\"] = [8, 9, 10]\n",
    "\n",
    "# add new key-valie-pair\n",
    "happy[\"not quite\"] = [5, 6, 7]\n",
    "\n",
    "# print dictionary\n",
    "print(happy)"
   ]
  },
  {
   "cell_type": "markdown",
   "metadata": {},
   "source": [
    "As with a `List`, a `Dictionary` cannot be simply copied from variable to variable as well. The reason is that only a **reference** is stored in the **variable**. To actually create a new `Dictionary`, you can pass the original `Dictionary` into the function `dict()` to actually **force** a new `Dictionary`.  \n",
    "\n",
    "Let us demonstrate how to make an **independent copy** of a `Dictionary`. "
   ]
  },
  {
   "cell_type": "code",
   "execution_count": null,
   "metadata": {},
   "outputs": [],
   "source": [
    "# define dictionary\n",
    "happy = {\"no\": [0, 1, 2, 3, 4], \"yes\": [5, 6, 7, 8, 9, 10]}\n",
    "\n",
    "# initialize copy\n",
    "new_happy = dict({\"no\": [0, 1, 2, 3, 4], \"yes\": [5, 6, 7, 8, 9, 10]})\n",
    "\n",
    "# modify copy\n",
    "new_happy[\"yes\"] = [8, 9, 10]\n",
    "\n",
    "# print original dictionary\n",
    "print(happy)"
   ]
  },
  {
   "cell_type": "markdown",
   "metadata": {},
   "source": [
    "### Set"
   ]
  },
  {
   "cell_type": "markdown",
   "metadata": {},
   "source": [
    "A `Set` is an **unordered** and **mutable collection** of **distinct** (unique) **elements**. It is useful to create something like a `List` that can only hold unique values. This is particularly helpful when going through a huge dataset. `Set` objects also support mathematical operations like union `|`, intersection `&`, difference `-`, and symmetric difference `^`. Within a pair of **curly brackets** `{` and `}`, you can add as many **elements** to the `Set` as you like, each separated by a **comma** `,`. \n",
    "\n",
    "Note, however, that if you want to create an **empty** `Set`, you do **not** use the **curly brackets** because they will create a dictionary, but you rather call the function `set()` explicitly.\n",
    "\n",
    "In comparison to a `List` or `Tuple`, a `Set` **cannot** be accessed with **indexing** or **slicing** because it is an unordered data type. However, a `Set` can be edited, but this only works with methods which we will introduce later. \n",
    "\n",
    "Let us create a **first set** anyway and show that the elements are **deduplicated** automatically."
   ]
  },
  {
   "cell_type": "code",
   "execution_count": null,
   "metadata": {},
   "outputs": [],
   "source": [
    "# define set\n",
    "points = set([0, 1, 2, 3, 4, 5, 6, 7, 8, 9, 10, 10, 10])\n",
    "\n",
    "# print set\n",
    "print(points)\n",
    "\n",
    "# check type of set\n",
    "print(type(points))"
   ]
  },
  {
   "cell_type": "markdown",
   "metadata": {},
   "source": [
    "<div class=\"alert alert-block alert-info\">\n",
    "    <b>Exercise</b>: Suppose you have to correct an assignment where students can only get whole points from 0 to 10. Define all possible points in the most appropriate data type.\n",
    "</div>"
   ]
  },
  {
   "cell_type": "code",
   "execution_count": null,
   "metadata": {},
   "outputs": [],
   "source": []
  },
  {
   "cell_type": "code",
   "execution_count": null,
   "metadata": {},
   "outputs": [],
   "source": []
  },
  {
   "cell_type": "markdown",
   "metadata": {},
   "source": [
    "<div class=\"alert alert-block alert-info\">\n",
    "    <b>Exercise</b>: Suppose you want to be able to find out students' current assignment scores based on their student ID. Create student Hans, whose student ID is 01/99999 and assignment scores are 9, 8, 10 points. Choose the most appropriate data type. \n",
    "</div>"
   ]
  },
  {
   "cell_type": "code",
   "execution_count": null,
   "metadata": {},
   "outputs": [],
   "source": []
  },
  {
   "cell_type": "code",
   "execution_count": null,
   "metadata": {},
   "outputs": [],
   "source": []
  },
  {
   "cell_type": "markdown",
   "metadata": {},
   "source": [
    "## 1.8 Type Conversion"
   ]
  },
  {
   "cell_type": "markdown",
   "metadata": {},
   "source": [
    "Now that we can determine the most appropriate data type for our use case, nothing can go wrong anymore right?\n",
    "\n",
    "Not quite. What we do not know yet is how the **different data types** can be **combined**, e.g. in calculations. What data type can be linked with other data types is mostly a matter of **experience**. But luckily Python offers a big support here: **Implicit type conversion**. This is the **automatic conversion** of Python into the **smallest common data type**, when operands of different types appear in an expression, such that they have the same type. \n",
    "\n",
    "For all other cases, there is the **explicit type conversion**: Using the **functions** for the different **data types**, certain types can be converted into others. \n",
    "\n",
    "Here is a brief **overview** of which **functions** can be called to explicitly convert to the corresponding data type, and with which **data types** it is compatible.\n",
    "\n",
    "| Function | Compatible Data Types  |\n",
    "| -------- | ------- |\n",
    "| `bool()` | `Boolean`, `Integer`, `Float`, `String`, `Tuple`, `List`, `Dictionary`, `Set` |\n",
    "| `float()` | `Integer`, `Float`, `String` |\n",
    "| `int()` | `Integer`, `Float`, `String` |\n",
    "| `str()` | `Integer`, `Float`, `String`, `Tuple`, `List`, `Dictionary`, `Set` |\n",
    "| `tuple()` | `Tuple`, `List` |\n",
    "| `list()` | `String`, `Tuple`, `List`, `Dictionary`, `Set` |\n",
    "| `dict()` | `Dictionary` |\n",
    "| `set()` | `String`, `Tuple`, `List`, `Dictionary`, `Set` |\n",
    "\n",
    "Let us do a couple of **examples** with **explicit type conversion**. "
   ]
  },
  {
   "cell_type": "code",
   "execution_count": null,
   "metadata": {},
   "outputs": [],
   "source": [
    "# define float\n",
    "result = 1.4142\n",
    "\n",
    "# convert float to integer\n",
    "result = int(result)\n",
    "\n",
    "# print integer\n",
    "print(result)"
   ]
  },
  {
   "cell_type": "code",
   "execution_count": null,
   "metadata": {},
   "outputs": [],
   "source": [
    "# define string\n",
    "result = \"1.4142\"\n",
    "\n",
    "# convert string to float\n",
    "result = float(result)\n",
    "\n",
    "# print float\n",
    "print(result)"
   ]
  },
  {
   "cell_type": "code",
   "execution_count": null,
   "metadata": {},
   "outputs": [],
   "source": [
    "# define string\n",
    "sentence = \"I love Python!\"\n",
    "\n",
    "# convert string to list\n",
    "sentence = list(sentence)\n",
    "\n",
    "# print list\n",
    "print(sentence)"
   ]
  },
  {
   "cell_type": "code",
   "execution_count": null,
   "metadata": {},
   "outputs": [],
   "source": [
    "# define dictionary\n",
    "happy = {\"no\": [0, 1, 2, 3, 4], \"yes\": [5, 6, 7, 8, 9, 10]}\n",
    "\n",
    "# convert dictionary to list\n",
    "happy = list(happy)\n",
    "\n",
    "# print list\n",
    "print(happy)"
   ]
  },
  {
   "cell_type": "markdown",
   "metadata": {},
   "source": [
    "## 1.8 Methods"
   ]
  },
  {
   "cell_type": "markdown",
   "metadata": {},
   "source": [
    "Besides functions, there are also methods in Python. Unlike functions, **methods** are associated with **certain objects**. The method is implicitly used for a certain object for which it is called. The method usually works on the data of an instance of an object, and returns a desired result accordingly (or not). \n",
    "\n",
    "The **syntax** of methods is the **name** of the **instance object** followed by the respective **method name** seperated by a **dot** `.` Hopefully, the concept of methods will become clear with the help of the upcoming examples. \n",
    "\n",
    "Let us try out some **simple methods**."
   ]
  },
  {
   "cell_type": "code",
   "execution_count": null,
   "metadata": {},
   "outputs": [],
   "source": [
    "# initialize string\n",
    "sentence = \"I love Python!\"\n",
    "\n",
    "# convert string in upper case\n",
    "sentence = sentence.upper()\n",
    "\n",
    "# print string\n",
    "print(sentence)"
   ]
  },
  {
   "cell_type": "code",
   "execution_count": null,
   "metadata": {},
   "outputs": [],
   "source": [
    "# initialize string\n",
    "sentence = \"I love Python!\"\n",
    "\n",
    "# replace values by other values\n",
    "sentence = sentence.replace(\"Python\", \"R\").replace(\"love\", \"hate\")\n",
    "\n",
    "# print string\n",
    "print(sentence)"
   ]
  },
  {
   "cell_type": "code",
   "execution_count": null,
   "metadata": {},
   "outputs": [],
   "source": [
    "# initialize list\n",
    "points = [0, 1, 2, 3, 4, 5, 6, 7, 8, 9, 10]\n",
    "\n",
    "# add element to list\n",
    "points.append(11)\n",
    "\n",
    "# print list\n",
    "print(points)"
   ]
  },
  {
   "cell_type": "code",
   "execution_count": null,
   "metadata": {},
   "outputs": [],
   "source": [
    "# define sets\n",
    "points = {0, 1, 2, 3, 4, 5, 6, 7, 8, 9, 10}\n",
    "happy_no = {0, 1, 2, 3, 4}\n",
    "\n",
    "# get difference of lists\n",
    "happy_yes = points.difference(happy_no)\n",
    "\n",
    "# print list\n",
    "print(happy_yes)"
   ]
  },
  {
   "cell_type": "markdown",
   "metadata": {},
   "source": [
    "To get a list **all attributes** and **methods** a variable has, we use the function `dir()`.\n",
    "\n",
    "Let us see what other **methods** a **set** has."
   ]
  },
  {
   "cell_type": "code",
   "execution_count": null,
   "metadata": {},
   "outputs": [],
   "source": [
    "# define set\n",
    "points = {0, 1, 2, 3, 4, 5, 6, 7, 8, 9, 10}\n",
    "\n",
    "# print methods\n",
    "print(dir(points))"
   ]
  },
  {
   "cell_type": "markdown",
   "metadata": {},
   "source": [
    "## 1.9 Conditional Statement"
   ]
  },
  {
   "cell_type": "markdown",
   "metadata": {},
   "source": [
    "So far you know the basics of individual instructions and that a program is just a series of instructions. But the real strength of programming is not just executing one instruction after another. Based on how the **expressions** evaluate, the program can decide to **skip instructions**, **repeat** them, or **choose** one of several instructions to run. In fact, you almost never want your programs to start from the first line of code and simply execute every line, straight to the end. **Control flow statements** can decide which Python instructions to execute under which **conditions**.\n",
    "\n",
    "For this, we have to understand the different types of operators in the first place. "
   ]
  },
  {
   "cell_type": "markdown",
   "metadata": {},
   "source": [
    "### Comparison Operator"
   ]
  },
  {
   "cell_type": "markdown",
   "metadata": {},
   "source": [
    "**Comparison operators** are used to **compare two values** and evaluate down to a single `Boolean`. They evaluate either as `True` or `False`. In Python, you can can use the following comparison operators.\n",
    "\n",
    "| Operator | Description  |\n",
    "| -------- | ------- |\n",
    "| `==` | equal |\n",
    "| `!=` | not equal |\n",
    "| `>` | greater than |\n",
    "| `<` | less than |\n",
    "| `>=` | greater than or equal to |\n",
    "| `<=` | less than or equal to |\n",
    "\n",
    "Let us try **comparison operators** out with a **little example**."
   ]
  },
  {
   "cell_type": "code",
   "execution_count": null,
   "metadata": {},
   "outputs": [],
   "source": [
    "# define age\n",
    "age = 17\n",
    "\n",
    "# print first comparison\n",
    "print(\"I am allowed to get beer:\", age >= 16)\n",
    "\n",
    "# print second comparison\n",
    "print(\"I am allowed to get spirits:\", age >= 18)"
   ]
  },
  {
   "cell_type": "markdown",
   "metadata": {},
   "source": [
    "### Logical Operator"
   ]
  },
  {
   "cell_type": "markdown",
   "metadata": {},
   "source": [
    "**Logical operators** are used to **compare multiple** `Boolean`. Like comparison operators, they evaluate these expressions down to a `Boolean`. Since the comparison operators evaluate to `Boolean`, you can use them in **expressions** with the **logical operators**. Note that these operators are often grouped in **smaller statements** with **round brackets** `(` `)`. In Python, you can use the following logical oporators.\n",
    "\n",
    "| Operator | Description  |\n",
    "| -------- | ------- |\n",
    "| `and` | returns `True` if both statements are `True` |\n",
    "| `or` | returns `True` if at least one of the statements is `True` |\n",
    "| `not` | returns `True` if result is `False` and vice versa |\n",
    "\n",
    "Let us put **logical operators** in our **previous example**. "
   ]
  },
  {
   "cell_type": "code",
   "execution_count": null,
   "metadata": {},
   "outputs": [],
   "source": [
    "# define age\n",
    "age = 17\n",
    "\n",
    "# print first comparison\n",
    "print(\"I am allowed to get beer and spirits:\", age >= 16 and age >= 18)\n",
    "\n",
    "# print second comparison\n",
    "print(\"I am not allowed to get beer and spirits:\", not (age >= 16 and age >= 18))\n",
    "\n",
    "# print third comparison\n",
    "print(\"I am allowed to get either beer or spirits:\", age >= 16 or age >= 18)"
   ]
  },
  {
   "cell_type": "markdown",
   "metadata": {},
   "source": [
    "## 1.10 Control Flow Statements"
   ]
  },
  {
   "cell_type": "markdown",
   "metadata": {},
   "source": [
    "With the help of **conditional statements**, we can decide which parts of our code are **skipped**, **repeated** or **select** which part of code is executed. To do this, we write **control flow statements**. We will now discuss each of these statements one after the other. "
   ]
  },
  {
   "cell_type": "markdown",
   "metadata": {},
   "source": [
    "### If Statement"
   ]
  },
  {
   "cell_type": "markdown",
   "metadata": {},
   "source": [
    "The most common type of control flow statements is the `if` **statement**. An `if` statement's **clause** will execute only if the **statement's condition** is `True`. The clause is **skipped** if the condition is `False`. The `else` clause is executed only when the `if` statement's condition is `False`. While only one of the `if` or `else` clauses will execute, you may have a case where you want **one of many** possible clauses to execute. The `elif` **statement** is **optional** and is an *else if* statement that always follows an `if` or another `elif` statement. The `if` and `elif` statements' condition are gone through **from top to bottom**, and once a condition is `True`, the respective clause will be executed and the **remaining statements** will be **skipped**. \n",
    "\n",
    "The **syntax** of an `if` **statement** looks as follows.\n",
    "\n",
    "```python\n",
    "if condition1:\n",
    "    clause(s)\n",
    "elif condition2:\n",
    "    clause(s)\n",
    "elif condition3:\n",
    "    clause(s)\n",
    "...\n",
    "else:\n",
    "    clause(s)\n",
    "```\n",
    "\n",
    "Let us make an **example** where we **check** our **statements** before we print the results. "
   ]
  },
  {
   "cell_type": "code",
   "execution_count": null,
   "metadata": {},
   "outputs": [],
   "source": [
    "# define age\n",
    "age = 17\n",
    "\n",
    "# check conditions and print results\n",
    "if age < 16:\n",
    "    print(\"I am allowed to get water!\")\n",
    "elif age < 18: \n",
    "    print(\"I am allowed to get water and beer!\")\n",
    "else:\n",
    "    print(\"I am allower to get water, beer and spirits!\")"
   ]
  },
  {
   "cell_type": "markdown",
   "metadata": {},
   "source": [
    "### For Loop"
   ]
  },
  {
   "cell_type": "markdown",
   "metadata": {},
   "source": [
    "The `for` **statement** supports **repeated execution** of a block of code. We also speak of a `for` **loop**. The number of repetitions is specified by the for statement, more precisely by an **iterable object**, e.g. `List`.  We will also discuss shortly what a `break` and `continue` statement is.\n",
    "\n",
    "The **syntax** of a `for` **loop** looks as follows.\n",
    "\n",
    "```python\n",
    "for target in iterable:\n",
    "    clause(s)\n",
    "```\n",
    "\n",
    "Let us make an **example** where we **loop** over **many ages** and print their results. "
   ]
  },
  {
   "cell_type": "code",
   "execution_count": null,
   "metadata": {},
   "outputs": [],
   "source": [
    "# define ages\n",
    "ages = range(0, 19)\n",
    "\n",
    "# print ages\n",
    "print(list(ages))\n",
    "\n",
    "# for loop over ages\n",
    "for age in ages:\n",
    "    # check conditions and print results\n",
    "    if age < 16:\n",
    "        print(\"I am {} years old and allowed to get water!\".format(age))\n",
    "    elif age < 18: \n",
    "        print(\"I am {} years old and allowed to get water and beer!\".format(age))\n",
    "    else:\n",
    "        print(\"I am {} years old and allowed to get water, beer and spirits!\".format(age))"
   ]
  },
  {
   "cell_type": "markdown",
   "metadata": {},
   "source": [
    "### Break Statement"
   ]
  },
  {
   "cell_type": "markdown",
   "metadata": {},
   "source": [
    "If inside a `for` loop the execution reaches a `break` **statement**, it **immediately exits** the `for` loop's clause. The `break` statement is only allowed inside a loop body. It should also be noted that when you have multiple nested `for` loops, only the **inner-most nested loop** will be exited. A common reason to use a `break` statement is when a certain point has already been reached before the `for` loop finished. \n",
    "\n",
    "Let us make an **example** where we **exit** the **previous loop**. "
   ]
  },
  {
   "cell_type": "code",
   "execution_count": null,
   "metadata": {},
   "outputs": [],
   "source": [
    "# define ages\n",
    "ages = range(0, 19)\n",
    "\n",
    "# print ages\n",
    "print(list(ages))\n",
    "\n",
    "# for loop over ages\n",
    "for age in ages:\n",
    "    # check conditions and print results\n",
    "    if age < 16:\n",
    "        print(\"I am {} years old and allowed to get water!\".format(age))\n",
    "    elif age < 18: \n",
    "        print(\"I am {} years old and allowed to get water and beer!\".format(age))\n",
    "        break\n",
    "    else:\n",
    "        print(\"I am {} years old and allowed to get water, beer and spirits!\".format(age))"
   ]
  },
  {
   "cell_type": "markdown",
   "metadata": {},
   "source": [
    "### Continue Statement"
   ]
  },
  {
   "cell_type": "markdown",
   "metadata": {},
   "source": [
    "If inside a `for` loop the execution reaches a `continue` **statement**, it **immediately exits** the **current iteration** of the loop body and it **continues** with the **next iterations** of the loop. The `continue` statement is only allowed inside a loop body. It should also be noted that when you have multiple nested `for` loops, only the **inner-most nested loop** will be continued. A common reason to use a `continue` statement is when a certain point has been reached when the result already cannot be reached inside this interation that the rest of it can be skipped.\n",
    "\n",
    "Let us make an **example** where we **skip** some **iterations**. "
   ]
  },
  {
   "cell_type": "code",
   "execution_count": null,
   "metadata": {},
   "outputs": [],
   "source": [
    "# define ages\n",
    "ages = range(0, 19)\n",
    "\n",
    "# print ages\n",
    "print(list(ages))\n",
    "\n",
    "# for loop over ages\n",
    "for age in ages:\n",
    "    # check conditions and print results\n",
    "    if age < 16:\n",
    "        continue\n",
    "        print(\"I am {} years old and allowed to get water!\".format(age))\n",
    "    elif age < 18: \n",
    "        print(\"I am {} years old and allowed to get water and beer!\".format(age))\n",
    "    else:\n",
    "        print(\"I am {} years old and allowed to get water, beer and spirits!\".format(age))"
   ]
  },
  {
   "cell_type": "markdown",
   "metadata": {},
   "source": [
    "### While Loop"
   ]
  },
  {
   "cell_type": "markdown",
   "metadata": {},
   "source": [
    "In the `while` **statement**, the condition is always **checked** at the **start of each iteration**. That is, each time the loop is executed. We also speak of a `while` loop. If the condition is `True`, then the clause is **executed**, and afterward, the condition is checked again. The first time the condition is found to be `False`, the `while` clause is **skipped**. If the execution reaches a `break` statement, it **immediately exits** the `while` loop's clause. When the program execution reaches a `continue` statement, the program execution immediately **jumps back** to the start of the loop and reevaluates the loop's condition. This is also what happens when the execution reaches the end of the loop.\n",
    "\n",
    "The **syntax** of a `while` **loop** looks as follows.\n",
    "\n",
    "```python\n",
    "while condition:\n",
    "    clause(s)\n",
    "```\n",
    "\n",
    "Let us make an **example** where we **loop** over **many ages** and print their results. "
   ]
  },
  {
   "cell_type": "code",
   "execution_count": null,
   "metadata": {},
   "outputs": [],
   "source": [
    "# define ages\n",
    "age = 0\n",
    "\n",
    "# for loop over ages\n",
    "while age < 19:\n",
    "    # check conditions and print results\n",
    "    if age < 16:\n",
    "        print(\"I am {} years old and allowed to get water!\".format(age))\n",
    "    elif age < 18: \n",
    "        print(\"I am {} years old and allowed to get water and beer!\".format(age))\n",
    "    else:\n",
    "        print(\"I am {} years old and allowed to get water, beer and spirits!\".format(age))\n",
    "    # increment age\n",
    "    age += 1"
   ]
  },
  {
   "cell_type": "markdown",
   "metadata": {},
   "source": [
    "<div class=\"alert alert-block alert-info\">\n",
    "    <b>Exercise</b>: Suppose Hans goes out for a pub crawl tonight. He is 18 years old, drinks only Tequilas and has 35 Euros in his pocket. If he joins group 1 first, then he goes into the Klimperkasten and wants to drink at least 5 tequilas there before he moves on to the Steigenberger. But if he joints group 2 first, then he goes into the Steigenberger and wants to drink at least 5 tequilas there before he moves on to the Klimperkasten. A Tequila costs 4 € in the Klimperkasten and 10€ in the Steigenberger. Define budget, prices and the first group as variables. Prompt where Hans goes, what he drinks and how much money he has left. How does Hans' evening go?\n",
    "</div>"
   ]
  },
  {
   "cell_type": "code",
   "execution_count": null,
   "metadata": {},
   "outputs": [],
   "source": []
  },
  {
   "cell_type": "code",
   "execution_count": null,
   "metadata": {},
   "outputs": [],
   "source": []
  },
  {
   "cell_type": "markdown",
   "metadata": {},
   "source": [
    "## 1.11 Style Guide"
   ]
  },
  {
   "cell_type": "markdown",
   "metadata": {},
   "source": [
    "Maybe you have already noticed that **code** can become **quickly** **complicated**, **confusing** and **unclear**. Especially if you look at your code after a long time or show it to somebody else, it will quickly become a serious problem. For that reason, there are various **style guides** which use quite simple rules to ensure your code is understandable, concise and clear. \n",
    "\n",
    "They deal with **following questions** for example:\n",
    "\n",
    "- How should I make imports?\n",
    "- How should I use line breaks?\n",
    "- How should I indent code?\n",
    "- How should I comment code?\n",
    "- How should I name variables?\n",
    "- How should I handle exceptions?\n",
    "\n",
    "We recommend you to have a look into the [Google Python Style Guide](https://github.com/google/styleguide/blob/gh-pages/pyguide.md)."
   ]
  },
  {
   "cell_type": "code",
   "execution_count": null,
   "metadata": {},
   "outputs": [],
   "source": []
  }
 ],
 "metadata": {
  "kernelspec": {
   "display_name": "Python 3",
   "language": "python",
   "name": "python3"
  },
  "language_info": {
   "codemirror_mode": {
    "name": "ipython",
    "version": 3
   },
   "file_extension": ".py",
   "mimetype": "text/x-python",
   "name": "python",
   "nbconvert_exporter": "python",
   "pygments_lexer": "ipython3",
   "version": "3.6.8"
  }
 },
 "nbformat": 4,
 "nbformat_minor": 4
}
