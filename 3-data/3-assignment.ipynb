{
 "cells": [
  {
   "cell_type": "markdown",
   "metadata": {},
   "source": [
    "# Python Block Course\n",
    "# Assignment 3: Importing, formatting and plotting data"
   ]
  },
  {
   "cell_type": "markdown",
   "metadata": {},
   "source": [
    "Prof. Dr. Karsten Donnay, Stefan Scholz\n",
    "\n",
    "Winter Term 2019 / 2020\n",
    "\n",
    "In this third assignment we will practice how to build a data pipeline in Python. You can score up to 15 points in this assignment. Please submit your solutions inside this notebook in your repository on GitHub. The deadline for submission is on Thursday, October 17, 09:59 am. You will get individual feedback in your repository."
   ]
  },
  {
   "cell_type": "markdown",
   "metadata": {},
   "source": [
    "## 3.1 Tragedy of Titanic"
   ]
  },
  {
   "cell_type": "markdown",
   "metadata": {},
   "source": [
    "During the maiden voyage of the RMS Titanic, she collided with an iceberg. Even though the Titanic was considered unsinkable, on April 15, 1912 she sank and tragically sweeped most of the passangers on board in their death. They only carried enough lifeboats for about half the number on board. Without a question, the sinking of the Titanic is one of the most infamous shipwrecks in history. \n",
    "\n",
    "The details of the passengers were carefully collected. The data shows, among other information, which passenger survived, which class he was in, which sex he had, and what age he was. \n",
    "\n",
    "First of all we are interested in finding out how good the chances of survival were between the different passangers on board. We will look at the relative chances of survival between sex, age and class. \n",
    "\n",
    "In the second step, we will conduct a logistic regression to predict who most likely survived given some characteristics. We will verify our predictions with the characters from the movie, Rose Dewitt Bukater played by Kate Winslet, and Jack Dawson played by Leonardo DiCaprio. "
   ]
  },
  {
   "cell_type": "markdown",
   "metadata": {},
   "source": [
    "<div class=\"alert alert-block alert-info\">\n",
    "    <b>Exercise (2 Points)</b>: Load a table with the data available <a href=\"https://raw.githubusercontent.com/mwaskom/seaborn-data/master/titanic.csv\">here</a>. Inspect the data and find out which variables have missing values.\n",
    "</div>"
   ]
  },
  {
   "cell_type": "code",
   "execution_count": null,
   "metadata": {},
   "outputs": [],
   "source": []
  },
  {
   "cell_type": "code",
   "execution_count": null,
   "metadata": {},
   "outputs": [],
   "source": []
  },
  {
   "cell_type": "markdown",
   "metadata": {},
   "source": [
    "You notice that there are e.g. some missing values in the variable age. But you want to use this variable in your later analysis, so you decide to use a median imputation for all missing values in the variable age. "
   ]
  },
  {
   "cell_type": "markdown",
   "metadata": {},
   "source": [
    "<div class=\"alert alert-block alert-info\">\n",
    "    <b>Exercise (1 Point)</b>: Impute all missing values in the variable age with its median.\n",
    "</div>"
   ]
  },
  {
   "cell_type": "code",
   "execution_count": null,
   "metadata": {},
   "outputs": [],
   "source": []
  },
  {
   "cell_type": "code",
   "execution_count": null,
   "metadata": {},
   "outputs": [],
   "source": []
  },
  {
   "cell_type": "markdown",
   "metadata": {},
   "source": [
    "<div class=\"alert alert-block alert-info\">\n",
    "    <b>Exercise (2 Points)</b>: Find the relative chances of survival for all sexes. Make a bar plot with the sexes and their relative chances of survival. Label your plot. \n",
    "</div>"
   ]
  },
  {
   "cell_type": "code",
   "execution_count": null,
   "metadata": {},
   "outputs": [],
   "source": []
  },
  {
   "cell_type": "code",
   "execution_count": null,
   "metadata": {},
   "outputs": [],
   "source": []
  },
  {
   "cell_type": "markdown",
   "metadata": {},
   "source": [
    "<div class=\"alert alert-block alert-info\">\n",
    "    <b>Exercise (2 Points)</b>: Find the relative chances of survival for all ages. Make a bar plot with age and their relative chances of survival. Bin age in categories of 10 years. Label your plot. \n",
    "</div>"
   ]
  },
  {
   "cell_type": "code",
   "execution_count": null,
   "metadata": {},
   "outputs": [],
   "source": []
  },
  {
   "cell_type": "code",
   "execution_count": null,
   "metadata": {},
   "outputs": [],
   "source": []
  },
  {
   "cell_type": "markdown",
   "metadata": {},
   "source": [
    "<div class=\"alert alert-block alert-info\">\n",
    "    <b>Exercise (2 Points)</b>: Find the relative chances of survival for all classes. Make a bar plot with class and their relative chances of survival. Label your plot. \n",
    "</div>"
   ]
  },
  {
   "cell_type": "code",
   "execution_count": null,
   "metadata": {},
   "outputs": [],
   "source": []
  },
  {
   "cell_type": "code",
   "execution_count": null,
   "metadata": {},
   "outputs": [],
   "source": []
  },
  {
   "cell_type": "markdown",
   "metadata": {},
   "source": [
    "In the next step you want to perform a logistic regression. Using the variables explored so far, sex, age and class, you want to predict the chance of survival. However, you notice that the variables sex and class are coded as categorical variables and cannot be handled by a logistic regression, so you decide for a one-hot encoding. With one-hot encoding, each category of each previous variable gets its own variable and is then binary encoded. "
   ]
  },
  {
   "cell_type": "markdown",
   "metadata": {},
   "source": [
    "<div class=\"alert alert-block alert-info\">\n",
    "    <b>Exercise (2 Points)</b>: Encode the variables sex and class with one-hot encoding as separate variables in the dataset.\n",
    "</div>"
   ]
  },
  {
   "cell_type": "code",
   "execution_count": null,
   "metadata": {},
   "outputs": [],
   "source": []
  },
  {
   "cell_type": "code",
   "execution_count": null,
   "metadata": {},
   "outputs": [],
   "source": []
  },
  {
   "cell_type": "markdown",
   "metadata": {},
   "source": [
    "<div class=\"alert alert-block alert-info\">\n",
    "    <b>Exercise (2 Points)</b>: Conduct a logistic regression with sex, age and class (one-hot encoded) on survival. Test the correctness of your regression by calculating the accuracy on your dataset. \n",
    "</div>"
   ]
  },
  {
   "cell_type": "code",
   "execution_count": null,
   "metadata": {},
   "outputs": [],
   "source": []
  },
  {
   "cell_type": "code",
   "execution_count": null,
   "metadata": {},
   "outputs": [],
   "source": []
  },
  {
   "cell_type": "markdown",
   "metadata": {},
   "source": [
    "Finally, you want to know what your model predicts for the two main characters in the movie Titanic. The character Rose Dewitt Bukater is played by Kate Winslet and is 17 years old, female and in first class. The character Jack Dawson is played by Leonardo DiCaprio and is 20 years old, male and in third class. "
   ]
  },
  {
   "cell_type": "markdown",
   "metadata": {},
   "source": [
    "<div class=\"alert alert-block alert-info\">\n",
    "    <b>Exercise (2 Points)</b>: Predict whether Rose or Jack survive using your logistic regression model. \n",
    "</div>"
   ]
  },
  {
   "cell_type": "code",
   "execution_count": null,
   "metadata": {},
   "outputs": [],
   "source": []
  },
  {
   "cell_type": "code",
   "execution_count": null,
   "metadata": {},
   "outputs": [],
   "source": []
  }
 ],
 "metadata": {
  "kernelspec": {
   "display_name": "Python 3",
   "language": "python",
   "name": "python3"
  },
  "language_info": {
   "codemirror_mode": {
    "name": "ipython",
    "version": 3
   },
   "file_extension": ".py",
   "mimetype": "text/x-python",
   "name": "python",
   "nbconvert_exporter": "python",
   "pygments_lexer": "ipython3",
   "version": "3.6.8"
  }
 },
 "nbformat": 4,
 "nbformat_minor": 4
}
