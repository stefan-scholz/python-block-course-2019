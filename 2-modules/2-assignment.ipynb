{
 "cells": [
  {
   "cell_type": "markdown",
   "metadata": {},
   "source": [
    "# Python Block Course\n",
    "# Assignment 2: Functions and modules in focus"
   ]
  },
  {
   "cell_type": "markdown",
   "metadata": {},
   "source": [
    "Prof. Dr. Karsten Donnay, Stefan Scholz\n",
    "\n",
    "Winter Term 2019 / 2020\n",
    "\n",
    "In this second assignment we will practice how to write functions and use modules in Python. You can score up to 15 points in this assignment. Please submit your solutions inside this notebook in your repository on GitHub. The deadline for submission is on Wednesday, October 16, 09:59 am. You will get individual feedback in your repository."
   ]
  },
  {
   "cell_type": "markdown",
   "metadata": {},
   "source": [
    "## 2.1 Moving Mean"
   ]
  },
  {
   "cell_type": "markdown",
   "metadata": {},
   "source": [
    "For the analysis of the German stock market index (DAX), you want to look at its adjusted closing prices over the last couple of years. You have already found a data set, which provides you with the open, high, low close and adjusted closing prices from 1988 to 2018. \n",
    "\n",
    "In the first steps of your analysis you are interested in the mean and moving mean of the adjusted closing prices. You are interested in the effect of smoothing on the prices.\n",
    "\n",
    "In order to calculate these results, you have to import for all available days their date and adjusted closing price. Then you need to write a function to calculate the mean of all prices. Additionally you have to write a function to calculate the moving mean, analogous to the illustration below. And finally you want to visualize all values of these first steps. \n",
    "\n",
    "The moving means with a window size of 3 would be calculated as means inside the following intervals. \n",
    "\n",
    "```text\n",
    "original    : [1, 2, 3, 4, 5, 6] \n",
    "windows     : [1, 2, 3], [2, 3, 4], [3, 4, 5], [4, 5, 6]\n",
    "```"
   ]
  },
  {
   "cell_type": "markdown",
   "metadata": {},
   "source": [
    "<div class=\"alert alert-block alert-info\">\n",
    "    <b>Exercise (5 Points)</b>: Download the table which is available <a href=\"https://raw.githubusercontent.com/therbootcamp/BaselRBootcamp_2018July/master/_sessions/_data/baselrbootcamp_data/%5EGDAXI.csv\">here</a>. Extract the adjusted closing prices as a list of floats and the dates as a list of datetime objects. Ignore days where any of these two information is missing. Use the modules csv and datetime. \n",
    "</div>"
   ]
  },
  {
   "cell_type": "code",
   "execution_count": null,
   "metadata": {},
   "outputs": [],
   "source": []
  },
  {
   "cell_type": "code",
   "execution_count": null,
   "metadata": {},
   "outputs": [],
   "source": []
  },
  {
   "cell_type": "markdown",
   "metadata": {},
   "source": [
    "<div class=\"alert alert-block alert-info\">\n",
    "    <b>Exercise (3 Points)</b>: Write a function that computes the mean of a list. \n",
    "</div>"
   ]
  },
  {
   "cell_type": "code",
   "execution_count": null,
   "metadata": {},
   "outputs": [],
   "source": []
  },
  {
   "cell_type": "code",
   "execution_count": null,
   "metadata": {},
   "outputs": [],
   "source": []
  },
  {
   "cell_type": "markdown",
   "metadata": {},
   "source": [
    "<div class=\"alert alert-block alert-info\">\n",
    "    <b>Exercise (2 Points)</b>: Compute the mean of all adjusted closing prices inside your data.\n",
    "</div>"
   ]
  },
  {
   "cell_type": "code",
   "execution_count": null,
   "metadata": {},
   "outputs": [],
   "source": []
  },
  {
   "cell_type": "code",
   "execution_count": null,
   "metadata": {},
   "outputs": [],
   "source": []
  },
  {
   "cell_type": "markdown",
   "metadata": {},
   "source": [
    "<div class=\"alert alert-block alert-info\">\n",
    "    <b>Exercise (3 Points)</b>: Write a function which calculates the moving mean of a list of floats. Define an additional parameter which takes the windows size used, where the default window size is 1. Keep in mind that the length of the list will change and that you can reuse your mean function. \n",
    "</div>"
   ]
  },
  {
   "cell_type": "code",
   "execution_count": null,
   "metadata": {},
   "outputs": [],
   "source": []
  },
  {
   "cell_type": "markdown",
   "metadata": {},
   "source": []
  },
  {
   "cell_type": "markdown",
   "metadata": {},
   "source": [
    "<div class=\"alert alert-block alert-info\">\n",
    "    <b>Exercise (2 Points)</b>: Compute the moving means of all adjusted closing prices inside your data with a window size of 30. \n",
    "</div>"
   ]
  },
  {
   "cell_type": "code",
   "execution_count": null,
   "metadata": {},
   "outputs": [],
   "source": []
  },
  {
   "cell_type": "code",
   "execution_count": null,
   "metadata": {},
   "outputs": [],
   "source": []
  },
  {
   "cell_type": "markdown",
   "metadata": {},
   "source": [
    "Now you can make an optional visualization of your computed results. In this way, you can also double check your results. We have already prepared the following code for this. All you have to do is replace the uppercase variables and functions with your own ones. Also note that you need an external package for the visualization, which is already pre-installed in Anaconda though. "
   ]
  },
  {
   "cell_type": "code",
   "execution_count": null,
   "metadata": {},
   "outputs": [],
   "source": [
    "import matplotlib.pyplot as plt\n",
    "\n",
    "# plot adjust closing prices\n",
    "plt.plot(DATES, PRICES, label=\"adjusted closing prices\")\n",
    "# plot moving mean\n",
    "plt.plot(DATES[15:-14], PRICES_MOVING, label=\"moving mean\")\n",
    "# plot mean\n",
    "plt.plot(DATES, [MEAN(PRICES)]*len(PRICES), label=\"mean\")\n",
    "# show legend\n",
    "plt.legend()\n",
    "# show plot\n",
    "plt.show()"
   ]
  },
  {
   "cell_type": "code",
   "execution_count": null,
   "metadata": {},
   "outputs": [],
   "source": []
  }
 ],
 "metadata": {
  "kernelspec": {
   "display_name": "Python 3",
   "language": "python",
   "name": "python3"
  },
  "language_info": {
   "codemirror_mode": {
    "name": "ipython",
    "version": 3
   },
   "file_extension": ".py",
   "mimetype": "text/x-python",
   "name": "python",
   "nbconvert_exporter": "python",
   "pygments_lexer": "ipython3",
   "version": "3.6.8"
  }
 },
 "nbformat": 4,
 "nbformat_minor": 4
}
