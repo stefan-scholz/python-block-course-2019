{
 "cells": [
  {
   "cell_type": "markdown",
   "metadata": {},
   "source": [
    "# Python Block Course\n",
    "# Assignment 5: Data streaming and parsing"
   ]
  },
  {
   "cell_type": "markdown",
   "metadata": {},
   "source": [
    "Prof. Dr. Karsten Donnay, Stefan Scholz\n",
    "\n",
    "Winter Term 2019 / 2020\n",
    "\n",
    "In this fifth assignment you will walk through a small data project on data you are personally interested in. You will need to build your own data pipeline, stream and parse the data, and use object-oriented programming. In this way, you will wrap up everything what you have learned in this course. You can score up to 40 points in this assignment. Please submit your solutions inside this notebook in your repository on GitHub. The deadline for submission is on Friday, October 25, 09:59 am. You will get individual feedback in your repository."
   ]
  },
  {
   "cell_type": "markdown",
   "metadata": {},
   "source": [
    "## 5.1 Data Stream"
   ]
  },
  {
   "cell_type": "markdown",
   "metadata": {},
   "source": [
    "There is a lot of interesting data in the internet. We want to give you the opportunity to explore data which is in your own personal interest. The only requirement on the data is that it fulfills the requirements of a data stream. So, if your data is not already completely available, but needs to be collected repeatedly, then it probably meets the requirements. If you do not have an idea on top of your mind, you can find an inspiration in the list of [APIs](https://github.com/public-apis/public-apis) and [websites](https://dmoz-odp.org/). "
   ]
  },
  {
   "cell_type": "markdown",
   "metadata": {},
   "source": [
    "<div class=\"alert alert-block alert-info\">\n",
    "    <b>Exercise (10 Points)</b>: Pick the data on which you want to build your project upon. Describe what this data is, for what reason it is interesting, and how you access it as a data stream. Implement your stream inside classes and methods which retrieve the underlying data. \n",
    "</div>"
   ]
  },
  {
   "cell_type": "code",
   "execution_count": null,
   "metadata": {},
   "outputs": [],
   "source": []
  },
  {
   "cell_type": "code",
   "execution_count": null,
   "metadata": {},
   "outputs": [],
   "source": []
  },
  {
   "cell_type": "markdown",
   "metadata": {},
   "source": [
    "## 5.2 Data Parser"
   ]
  },
  {
   "cell_type": "markdown",
   "metadata": {},
   "source": [
    "<div class=\"alert alert-block alert-info\">\n",
    "    <b>Exercise (10 Points)</b>: Figure out how you get the information of interest out of the data. Describe what kind of structure the data has, and where the information of interest is embedded. Implement your parser inside classes and methods which take the underlying data and return the desired information. In order to update your information later on, save your parsed information in a file. \n",
    "</div>"
   ]
  },
  {
   "cell_type": "code",
   "execution_count": null,
   "metadata": {},
   "outputs": [],
   "source": []
  },
  {
   "cell_type": "code",
   "execution_count": null,
   "metadata": {},
   "outputs": [],
   "source": []
  },
  {
   "cell_type": "markdown",
   "metadata": {},
   "source": [
    "## 5.3 Data Analysis"
   ]
  },
  {
   "cell_type": "markdown",
   "metadata": {},
   "source": [
    "<div class=\"alert alert-block alert-info\">\n",
    "    <b>Exercise (10 Points)</b>: Present some key features and run a first data analysis with your parsed information. Implement your analysis inside classes and methods which take the parsed data and return the results of the analysis. Load your parsed information from your file. \n",
    "</div>"
   ]
  },
  {
   "cell_type": "code",
   "execution_count": null,
   "metadata": {},
   "outputs": [],
   "source": []
  },
  {
   "cell_type": "code",
   "execution_count": null,
   "metadata": {},
   "outputs": [],
   "source": []
  },
  {
   "cell_type": "markdown",
   "metadata": {},
   "source": [
    "## 5.4 Data Visualization"
   ]
  },
  {
   "cell_type": "markdown",
   "metadata": {},
   "source": [
    "<div class=\"alert alert-block alert-info\">\n",
    "    <b>Exercise (10 Points)</b>: Pick a feature of your analysis that you want to stress with a visualization. Create the respective graphs. Label the graphs where it seems necessary for you. Implement your visualization inside classes and methods which take the parsed information and return the graphs. \n",
    "</div>"
   ]
  },
  {
   "cell_type": "code",
   "execution_count": null,
   "metadata": {},
   "outputs": [],
   "source": []
  },
  {
   "cell_type": "code",
   "execution_count": null,
   "metadata": {},
   "outputs": [],
   "source": []
  }
 ],
 "metadata": {
  "kernelspec": {
   "display_name": "Python 3",
   "language": "python",
   "name": "python3"
  },
  "language_info": {
   "codemirror_mode": {
    "name": "ipython",
    "version": 3
   },
   "file_extension": ".py",
   "mimetype": "text/x-python",
   "name": "python",
   "nbconvert_exporter": "python",
   "pygments_lexer": "ipython3",
   "version": "3.6.8"
  }
 },
 "nbformat": 4,
 "nbformat_minor": 4
}
