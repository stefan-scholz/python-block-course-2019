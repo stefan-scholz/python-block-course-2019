{
 "cells": [
  {
   "cell_type": "markdown",
   "metadata": {},
   "source": [
    "# Python Block Course\n",
    "# Session 5: Data streaming and parsing"
   ]
  },
  {
   "cell_type": "markdown",
   "metadata": {},
   "source": [
    "Prof. Dr. Karsten Donnay, Stefan Scholz\n",
    "\n",
    "Winter Term 2019 / 2020\n",
    "\n",
    "In this fifth session we will learn how to stream and parse data. For this purpose we will discuss how data from the internet can be used generally, and attempt it on an exemplary API and website. "
   ]
  },
  {
   "cell_type": "markdown",
   "metadata": {},
   "source": [
    "## 5.1 Data Streams"
   ]
  },
  {
   "cell_type": "markdown",
   "metadata": {},
   "source": [
    "In our context, a **data stream** is a **sequence** of **information**. While in a true data stream **not** all data is **available** at one point in time, in pseudo data streams the data is completely available but the data is usually so **big** that the hard drive or memory cannot cope with it. Depending on the type of data stream, it can contain **various information**, i.e. timestamps, attributes, raw data or processed data. \n",
    "\n",
    "These information are streamed in a very broad range of applications. Below are a few **examples**.\n",
    "\n",
    "| Application | Description |\n",
    "| -------- | ------- |\n",
    "| Fraud detection | detect patterns and anomalies in banking transactions with time, amount, location |\n",
    "| Click analytics | profile advertisment, social media, websites by user behavior |\n",
    "| News analytics | underpin trading strategy or business decision by automated text analysis on news |\n",
    "| High-frequency trading | make automated trading decision in milliseconds based on live stock prices |\n"
   ]
  },
  {
   "cell_type": "markdown",
   "metadata": {},
   "source": [
    "In order to get a data stream, most of the times either **websites** are used where the data comes straight from a data provider without being processed, or from **APIs** where the data is somehow modified, validated or cleaned by some data provider. What this exactly means and how we get access to these data streams, we will learn in today's session."
   ]
  },
  {
   "cell_type": "markdown",
   "metadata": {},
   "source": [
    "## 5.2 Iterators"
   ]
  },
  {
   "cell_type": "markdown",
   "metadata": {},
   "source": [
    "But before we come to data streams from the internet, we should first learn how data streams are defined in **Python**. In fact, to work with changing and large **data streams**, Python offers `Iterator`.\n",
    "\n",
    "In our first session, we got to know a similarly named construct called `Iterable`. However, a `Iterable` is a **data structure**, e.g. list, tuple, dictionary, whereas `Iterator` is more like a **pointer** which points on certain data. Technically, a `Iterator` is an object that can be **iterated upon** with the help of the **methods** `__iter__()` and `__next__()`. Actually most iterables have a **build-in iterable** to access them. But you can also create your **own iterator object** which implements the two methods above. \n",
    "\n",
    "The big **advantage** about **iterators** is that with **large amounts** of **data** not all data need to be stored at once. For example, if we want to access all **numbers** from $0$ to $10^{50}$, we could try to store all numbers in a list, which will be for sure super **large**, but will probably not even fit into your **memory**. Instead we could use an **iterator** that creates each number after the other, such that only **one number** has to be **stored** at a time. This is a typical example where iterators are very helpful. \n",
    "\n",
    "Let us create this **iterator** and return some **numbers**. "
   ]
  },
  {
   "cell_type": "code",
   "execution_count": null,
   "metadata": {},
   "outputs": [],
   "source": [
    "class Number:\n",
    "    \"\"\"\n",
    "    Class Number\n",
    "    \"\"\"\n",
    "    \n",
    "    def __iter__(self):\n",
    "        self.next_number = 1\n",
    "        return self\n",
    "    \n",
    "    def __next__(self):\n",
    "        current_number = self.next_number\n",
    "        self.next_number += 1\n",
    "        return current_number"
   ]
  },
  {
   "cell_type": "code",
   "execution_count": null,
   "metadata": {},
   "outputs": [],
   "source": [
    "# iterate over numbers\n",
    "for number in Number():\n",
    "    # print next number\n",
    "    print(number)\n",
    "    \n",
    "    # stop iteration\n",
    "    if number >= 3:\n",
    "        break"
   ]
  },
  {
   "cell_type": "code",
   "execution_count": null,
   "metadata": {},
   "outputs": [],
   "source": [
    "# define iterator for numbers\n",
    "numbers = iter(Number())\n",
    "\n",
    "# print first number\n",
    "print(next(numbers))\n",
    "\n",
    "# print second number\n",
    "print(next(numbers))\n",
    "\n",
    "# print third number\n",
    "print(next(numbers))"
   ]
  },
  {
   "cell_type": "markdown",
   "metadata": {},
   "source": [
    "By the way, all this time we have been working with an **iterator** that generates these **numbers** in the same way - the **function** `range()`."
   ]
  },
  {
   "cell_type": "markdown",
   "metadata": {},
   "source": [
    "## 5.3 Exceptions"
   ]
  },
  {
   "cell_type": "markdown",
   "metadata": {},
   "source": [
    "Until now you have probably strumbled across several **error messages** when you wrote Python code. In general, these error messages are divided into two categories: First, there are **syntax errors**, which indicate that at some point in your code you used an **invalid command**, e.g. you forgot an indent or wrote a colon too much. The interpreter checks for these syntax errors before you code is actually executed. But we do not want to go into detail here. Instead, we want to discuss the second category of error messages. These error messages are problems which the interpreter encounters when it actually executes your code. These errors are also called **exceptions**. By default, they are **fatal** and stop your program immediately when the exception occurs. \n",
    "\n",
    "In the following is a list of **common exceptions**: "
   ]
  },
  {
   "cell_type": "markdown",
   "metadata": {},
   "source": [
    "| Exception | Cause |\n",
    "| -------- | ------- |\n",
    "| Attribute Error | Raised when attribute assignment or reference fails |\n",
    "| Import Error | Raised when the imported module is not found |\n",
    "| Index Error | Raised when index of a sequence is out of range |\n",
    "| KeyError | Raised when a key is not found in a dictionary | \n",
    "| Keyboard Interrupt | Raised when the user hits interrupt key(Ctrl + C or Delete) |\n",
    "| Memory Error | Raised when an operation runs out of memory | \n",
    "| Name Error | Raised when a variable is not found in local or global scope | \n",
    "| Syntax Error | Raised by parser when syntax error is encountered |\n",
    "| IndentationError | Raised when there is incorrect indentation | \n",
    "| Type Error | Raised when a function or operation is applied to an object of incorrect type | \n",
    "| Value Error | Raised when a function gets argument of correct type but improper value |\n",
    "| Zero Division Error | Raised when second operand of division or modulo operation is zero |"
   ]
  },
  {
   "cell_type": "markdown",
   "metadata": {},
   "source": [
    "If you are working with **data streams**, e.g. from websites and APIs, it is advisable that you take certain **errors** into **account** such that not the whole program aborts because of an **unimportant detail** in the data stream. Besides the data stream itself, there is an endless number of potential causes for errors. \n",
    "\n",
    "In these cases, we wrap our code with a `try` **statement**, and catch a possible **exception** with an `except` statement. You can also catch **multiple exceptions** at the same time by adding underneath more `except` statements. If you want to have the respective **message** of the exception available in the `exception` block give it a **variable name**, like in the `with` statement. If you use a `finally` **statement** at the end of your `try` statement, the **clause** inside the `finally` statement will be **executed last**, whether or not the `try` statement raised an exception. \n",
    "\n",
    "Let us **catch** some trivial **exceptions**. "
   ]
  },
  {
   "cell_type": "code",
   "execution_count": null,
   "metadata": {},
   "outputs": [],
   "source": [
    "# error prone code\n",
    "size = len(w)"
   ]
  },
  {
   "cell_type": "code",
   "execution_count": null,
   "metadata": {},
   "outputs": [],
   "source": [
    "try:\n",
    "    # error prone code\n",
    "    size = len(x)\n",
    "except NameError as e:\n",
    "    # report name error\n",
    "    print(\"Got error: {}\".format(e))"
   ]
  },
  {
   "cell_type": "code",
   "execution_count": null,
   "metadata": {},
   "outputs": [],
   "source": [
    "try: \n",
    "    # error prone code\n",
    "    y = 12\n",
    "    size = len(y)\n",
    "except NameError as e:\n",
    "    # report name error\n",
    "    print(\"Got name error: {}\".format(e))\n",
    "except TypeError as e:\n",
    "    # report type error\n",
    "    print(\"Got type error: {}\".format(e))"
   ]
  },
  {
   "cell_type": "code",
   "execution_count": null,
   "metadata": {},
   "outputs": [],
   "source": [
    "try: \n",
    "    # error prone code\n",
    "    size = len(z)\n",
    "except NameError as e:\n",
    "    # report name error\n",
    "    print(\"Got name error: {}\".format(e))\n",
    "except TypeError as e:\n",
    "    # report type error\n",
    "    print(\"Got type error: {}\".format(e))\n",
    "finally:\n",
    "    # report finished block\n",
    "    print(\"Finished try block\")"
   ]
  },
  {
   "cell_type": "markdown",
   "metadata": {},
   "source": [
    "Please keep in mind, however, that you should not **abuse** `try` statements to make **poor code** run, but only to deal with **unavoidable problems**. This is also the reason why we have not introduced exception handling earlier on. "
   ]
  },
  {
   "cell_type": "markdown",
   "metadata": {},
   "source": [
    "## 5.4 REST APIs"
   ]
  },
  {
   "cell_type": "markdown",
   "metadata": {},
   "source": [
    "For the purpose of **communication** between **clients** and **servers**, a wide range of application programming interfaces (APIs) has been developed. An API can appear in different forms, e.g. as web system, operating system or database system. However, in today's session we want to dicuss a specific type called **REST APIs**.  **REST** is an acronym for **RE**presentational **S**tate **T**ransfer **A**pplication **P**rogramming **I**nterface. This form of interfaces defines a **uniform** and **predefined set** of **stateless operations**. \n",
    "\n",
    "In this context, **stateless** means that in every request **all information** is sent and no previous request is considered. This ensures that the interfaces are **fast**, **reliable** and **fault tolerant**. \n",
    "\n",
    "In particular, the client sends a **request** with a URL, with an endpoint, an access token and other parameters. You can imagine this as if you access a **webpage**. But an API is much more **generic** and **abstract** and allows for much more requests. The **HTTP protocol** is used to handle the requests listed below. We will also send **requests** using the **package** `requests`. This package is a very powerful package which does a lot of work for us in the background to send such requests. All we have to do is determine our request with a URL, header and parameters. "
   ]
  },
  {
   "cell_type": "markdown",
   "metadata": {},
   "source": [
    "In the following is a list of the most common **HTTP methods** used together with **REST APIs**. \n",
    "\n",
    "| Method | Description |\n",
    "| -------- | ------- |\n",
    "| GET | request data from the server |\n",
    "| POST | sends data to the server |\n",
    "| PUT | changes data on the server |\n",
    "| DELETE | deletes existing data on the server |"
   ]
  },
  {
   "cell_type": "markdown",
   "metadata": {},
   "source": [
    "For us, when we want to stream data, the first method `GET` will be particularly important. These requests will be processed by the server and then the client will receive a **response** according to the corresponding request, usually as **HTML**, **XML** or **JSON**. This response will be processed by the **package** `requests` again, which we can use to access the underlying data. \n",
    "\n",
    "We will discuss the **individual steps** to work with a **REST API** in the following. Therefore, we will use as an **example** the [News API](https://newsapi.org/). This is a REST API that provides **news headlines** from 30,000 news sources worldwide. However, for copyright reasons, it does not provide the full texts of the articles but only the **link** to these articles. Basically, these steps can be implemented similarly for all REST APIs. "
   ]
  },
  {
   "cell_type": "markdown",
   "metadata": {},
   "source": [
    "### Endpoints"
   ]
  },
  {
   "cell_type": "markdown",
   "metadata": {},
   "source": [
    "**REST APIs** have so-called **endpoints** against which **requests** can be made. But one REST API can have **multiple endpoints** which all provide **different information**. However, if you work with a single REST API, then all its endpoints have the same URL as base. In this case, for the different endpoints only the **suffix** behind the base URL changes. For example, [News API](https://newsapi.org/) has in total **three endpoints** which provide different kinds of information. A detailed **description** of these endpoints is available in the [documentation](https://newsapi.org/docs/endpoints)."
   ]
  },
  {
   "cell_type": "markdown",
   "metadata": {},
   "source": [
    "Below you find an **overview** of the different **endpoints** of [News API](https://newsapi.org/). \n",
    "\n",
    "| Endpoint | Description |\n",
    "| -------- | ------- |\n",
    "| https://newsapi.org/v2/top-headlines | breaking news headlines |\n",
    "| https://newsapi.org/v2/everything | recent news and blog articles |\n",
    "| https://newsapi.org/v2/sources | available news sources |"
   ]
  },
  {
   "cell_type": "markdown",
   "metadata": {},
   "source": [
    "### Parameters"
   ]
  },
  {
   "cell_type": "markdown",
   "metadata": {},
   "source": [
    "**Parameters** are **options** you can pass with the endpoints which **restrict** what specific information you are interested in. Usually three different types of parameters are used. For all REST APIs, the **documentation** will tell you in specific which information you should pass in which parameter type. \n",
    "\n",
    "The following list shows the different **parameter types**. \n",
    "\n",
    "| Type | Description |\n",
    "| -------- | ------- |\n",
    "| Header | in request header, e.g. authorization |\n",
    "| Query string | in request string after endpoint and question mark `?`, e.g. keywords |\n",
    "| Request body | in request body usually as JSON, e.g. send data |"
   ]
  },
  {
   "cell_type": "markdown",
   "metadata": {},
   "source": [
    "We will later combine the various parameters with the package `requests`. This package will take care of the **appropriate handling** of the different **types** of **parameters**. We will come to this when we actually make a request. Before that we should have a look at the **parameters** of [News API](https://newsapi.org/). In specific, we will only look at one endpoint of it which provides recent news and blog articles. You can find a detailed description for all parameters and endpoints in the [documentation](https://newsapi.org/docs/endpoints/). "
   ]
  },
  {
   "cell_type": "markdown",
   "metadata": {},
   "source": [
    "Most REST APIs use an **API key**, also [News API](https://newsapi.org/). This API key should be passed in the **headers** of your requests. The following list shows the **required parameters** in the **header** for a request on the [News API](https://newsapi.org/). \n",
    "\n",
    "| Header | Description |\n",
    "| -------- | ------- |\n",
    "| X-Api-Key | authentication with API key |"
   ]
  },
  {
   "cell_type": "markdown",
   "metadata": {},
   "source": [
    "While this authentification method in the header is very common and widely used, the **query parameters** differ significantly from API to API. This is also because they depend on what information is available in the API. You can find a detailed description of the query parameters for the endpoint `everything` in the [documentation](https://newsapi.org/docs/endpoints/everything). In the following list we see a few **query parameters** which can be used together with the endpoint `everything`. \n",
    "\n",
    "| Query string | Description |\n",
    "| -------- | ------- |\n",
    "| q | keywords or phrases to search for in the article title and body, e.g. `bitcoin` |\n",
    "| qInTitle | keywords or phrases to search for in the article title only, e.g. `bitcoin` |\n",
    "| sources | comma-seperated string of identifiers for the new sources or blogs you want headlines from (maximum 20), e.g. `the-new-york-times` |\n",
    "| from | date and optional time for the oldest article allowed, e.g. `2019-10-17` |\n",
    "| to | date and optional time for the newest article allowed, e.g. `2019-10-17` |\n",
    "| language |  2-letter ISO-639-1 code of the language you want to get headlines, e.g. `de`, `en`, `es`, `fr` |\n",
    "| sortBy | order to sort the articles in, e.g. `relevancy`, `publishedAt`  |"
   ]
  },
  {
   "cell_type": "markdown",
   "metadata": {},
   "source": [
    "When we have prepared all the parameters, we are ready to make a request to a REST API. "
   ]
  },
  {
   "cell_type": "markdown",
   "metadata": {},
   "source": [
    "### Requests"
   ]
  },
  {
   "cell_type": "markdown",
   "metadata": {},
   "source": [
    "There are several ways to send a request to a REST API, among others you can do it with the package `requests`. As mentioned above, this package allows you to make **HTTP requests** very **easily** and **quickly**. It provides all functions and methods to write your **parameters** into requests, send you **requests** and work with your **responses**. \n",
    "\n",
    "Let us first **import** the **package** or install it if necessary. "
   ]
  },
  {
   "cell_type": "code",
   "execution_count": null,
   "metadata": {},
   "outputs": [],
   "source": [
    "import requests"
   ]
  },
  {
   "cell_type": "markdown",
   "metadata": {},
   "source": [
    "In our example with the [News API](https://newsapi.org/) we are interested in getting **recent news articles**. The best way to understand requests is to prepare an **exemplary request** on some news articles. \n",
    "\n",
    "Let us first define the **URL** with the endpoint in the variable `url`, then the **headers** in the variable `header` and the **query strings** in the variable `parameters`. Then we pass these variables into the **function** `requests.get()` to make the corresponding **request**. This request is best wrapped inside a `try` **statement**, e.g. to handle an **HTTP error** `requests.exceptions.HTTPError`. An **exception** will also be raised by the method `raise_for_status()` when the response contains an **invalid status**. "
   ]
  },
  {
   "cell_type": "code",
   "execution_count": null,
   "metadata": {},
   "outputs": [],
   "source": [
    "# define token\n",
    "token = \"\"\n",
    "\n",
    "# define entrypoint\n",
    "url = \"https://newsapi.org/v2/everything\"\n",
    "\n",
    "# define header\n",
    "header = {\"X-Api-Key\": token}\n",
    "\n",
    "# define query strings\n",
    "parameters = {\"qInTitle\": \"bitcoins\", \"language\": \"en\"}\n",
    "\n",
    "try:\n",
    "    # make request\n",
    "    response = requests.get(url, params=parameters, headers=header)\n",
    "    # check response\n",
    "    response.raise_for_status()\n",
    "except requests.exceptions.HTTPError as e:\n",
    "    print(\"HTTPError: {}\".format(e))\n",
    "except Exception as e:\n",
    "    print(\"Error: {}\".format(e))"
   ]
  },
  {
   "cell_type": "markdown",
   "metadata": {},
   "source": [
    "If the request works and throws no error, you can have a first look into the **response** with the attribute `content`. "
   ]
  },
  {
   "cell_type": "code",
   "execution_count": null,
   "metadata": {
    "scrolled": true
   },
   "outputs": [],
   "source": [
    "# inspect response\n",
    "print(response.content)"
   ]
  },
  {
   "cell_type": "markdown",
   "metadata": {},
   "source": [
    "<div class=\"alert alert-block alert-info\">\n",
    "    <b>Exercise</b>: Sign up for <a href=\"https://newsapi.org/register\">NewsAPI</a>.\n",
    "</div>"
   ]
  },
  {
   "cell_type": "markdown",
   "metadata": {},
   "source": []
  },
  {
   "cell_type": "code",
   "execution_count": null,
   "metadata": {},
   "outputs": [],
   "source": []
  },
  {
   "cell_type": "markdown",
   "metadata": {},
   "source": [
    "<div class=\"alert alert-block alert-info\">\n",
    "    <b>Exercise</b>: Request English articles from the NY Times on Brexit from the <a href=\"https://newsapi.org/\">News API</a>. \n",
    "</div>"
   ]
  },
  {
   "cell_type": "code",
   "execution_count": null,
   "metadata": {
    "scrolled": true
   },
   "outputs": [],
   "source": []
  },
  {
   "cell_type": "code",
   "execution_count": null,
   "metadata": {},
   "outputs": [],
   "source": []
  },
  {
   "cell_type": "markdown",
   "metadata": {},
   "source": [
    "<div class=\"alert alert-block alert-info\">\n",
    "    <b>Exercise</b>: Implement your request inside classes and methods which take all details on the request and return the response. \n",
    "</div>"
   ]
  },
  {
   "cell_type": "code",
   "execution_count": null,
   "metadata": {},
   "outputs": [],
   "source": []
  },
  {
   "cell_type": "code",
   "execution_count": null,
   "metadata": {},
   "outputs": [],
   "source": []
  },
  {
   "cell_type": "markdown",
   "metadata": {},
   "source": [
    "### Responses"
   ]
  },
  {
   "cell_type": "markdown",
   "metadata": {},
   "source": [
    "After a **request** has been sent to a **REST API**, you will receive a **response** to it. This response consists of different information, i.e. a **status code**, a **header** and a **body**. If you have made your request with the package `requests`, then you can easily access these information. So far we have used the **attribute** `content` to inspect the **body** without knowing what it actually is. Behind the attribute `content` is the body of the response sent by the server. This body is in a **JSON format** - a combination of **attribute-value-pairs** and **array-data-types**. \n",
    "\n",
    "In Python, there are two ways to **parse** **JSON format**. Either we use the **function** `json.loads()` from the **module** `json` to load the **string** into a **dictionary**. Alternatively, we can directly call the **method** `json()` on our **response**. Both options output dictionaries which we can work with in Python.\n",
    "\n",
    "Let us demonstrate the two different methods to **parse responses**. "
   ]
  },
  {
   "cell_type": "code",
   "execution_count": null,
   "metadata": {},
   "outputs": [],
   "source": [
    "import json\n",
    "\n",
    "# parse response with json\n",
    "parsed_response = json.loads(response.content)\n",
    "\n",
    "# print type of response\n",
    "print(type(parsed_response))"
   ]
  },
  {
   "cell_type": "code",
   "execution_count": null,
   "metadata": {},
   "outputs": [],
   "source": [
    "# parse response with method\n",
    "parsed_response = response.json()\n",
    "\n",
    "# print type of response\n",
    "print(type(parsed_response))"
   ]
  },
  {
   "cell_type": "markdown",
   "metadata": {},
   "source": [
    "Even though we have already learned how to access **dictionaries** in the first session, we will show how you can **access certain information** by their keys and values. In case of our response from the <a href=\"https://newsapi.org/register\">News API</a>, we might be interested to access the articles' titles or URLs. \n",
    "\n",
    "Let us demonstrate once how to parse the **articles' titles** from the **response**. "
   ]
  },
  {
   "cell_type": "code",
   "execution_count": null,
   "metadata": {
    "scrolled": true
   },
   "outputs": [],
   "source": [
    "# inspect keys and values\n",
    "for key, value in parsed_response.items():\n",
    "    print(key)\n",
    "    print(value)\n",
    "    print(\"-----\")"
   ]
  },
  {
   "cell_type": "code",
   "execution_count": null,
   "metadata": {},
   "outputs": [],
   "source": [
    "# inspect article\n",
    "for article in parsed_response[\"articles\"]:\n",
    "    print(article)\n",
    "    break"
   ]
  },
  {
   "cell_type": "code",
   "execution_count": null,
   "metadata": {},
   "outputs": [],
   "source": [
    "# inspect title\n",
    "for article in parsed_response[\"articles\"]:\n",
    "    print(article[\"title\"])\n",
    "    break"
   ]
  },
  {
   "cell_type": "code",
   "execution_count": null,
   "metadata": {},
   "outputs": [],
   "source": [
    "# inspect all titles\n",
    "for article in parsed_response[\"articles\"]:\n",
    "    print(article[\"title\"])"
   ]
  },
  {
   "cell_type": "markdown",
   "metadata": {},
   "source": [
    "<div class=\"alert alert-block alert-info\">\n",
    "    <b>Exercise</b>: Parse from the response from requests all articles' URL and store them in a list. \n",
    "</div>"
   ]
  },
  {
   "cell_type": "code",
   "execution_count": null,
   "metadata": {},
   "outputs": [],
   "source": []
  },
  {
   "cell_type": "code",
   "execution_count": null,
   "metadata": {},
   "outputs": [],
   "source": []
  },
  {
   "cell_type": "markdown",
   "metadata": {},
   "source": [
    "<div class=\"alert alert-block alert-info\">\n",
    "    <b>Exercise</b>: Implement your parser inside classes and methods which take the response from requests and return the list of the articles' URL. \n",
    "</div>"
   ]
  },
  {
   "cell_type": "code",
   "execution_count": null,
   "metadata": {},
   "outputs": [],
   "source": []
  },
  {
   "cell_type": "code",
   "execution_count": null,
   "metadata": {},
   "outputs": [],
   "source": []
  },
  {
   "cell_type": "markdown",
   "metadata": {},
   "source": [
    "## 5.5 Webpages"
   ]
  },
  {
   "cell_type": "markdown",
   "metadata": {},
   "source": [
    "Another **web resource** in the **world wide web** is **webpages**. Every day we use hundreds of **websites** like [Google](https://www.google.com/), [Wikipedia](https://frr.wikipedia.org/wiki/), [Youtube](https://www.youtube.com/), [Facebook](https://www.facebook.com/), [StackOverflow](https://stackoverflow.com/), and [GitHub](https://github.com/) to get information. These **websites** usually consist of **several webpages** written in **HTML** or a comparable **markup language**. So why should we not also be able to stream data from webpages? \n",
    "\n",
    "Yes, in general we are able to stream our data also from webpages with Python. But in comparision to REST APIs it requires much more **effort**, **time** and **tears**, because the desired information has **not** been **collected**, **cleaned** or **structured** by a provider. Still, if there is no suitable API available or it is unreasonable expensive, it is a good idea to implement a so-called **web scraper**. They are used to **extract data** from **webpages** automatically either with a bot or web crawler. Usually these webpages are scraped repeatedly to observe changes and generate data streams. \n",
    "\n",
    "In a first step, we want to extract data from single webpages. To extract their data we can use the **package** `requests` because the communication is based on the **HTTP protocol** again. We will explain step by step how we can make **requests** to **webpages** - which is very similar to REST APIs. As examples we will use the **webpages** behind the **news articles** from the [NY Times](https://www.nytimes.com/) which we collected in the previous section. Then we will show you how to **extract information** from these webpages. "
   ]
  },
  {
   "cell_type": "markdown",
   "metadata": {},
   "source": [
    "### URLs"
   ]
  },
  {
   "cell_type": "markdown",
   "metadata": {},
   "source": [
    "**Uniform resource locators** (URLs) are **references** to all kinds of web resources. In the case of APIs, we called them endpoints. With webpages, we will not go into detail how they include parameters in their URLs. This is mainly due to the fact that many websites use parameters differently and not use a standard like REST APIs. Instead we will assume that our **URLs** are already **given**. "
   ]
  },
  {
   "cell_type": "markdown",
   "metadata": {},
   "source": [
    "In the following you can see the **schema** of a **URL** and **two examples**. \n",
    "\n",
    "```\n",
    "scheme:[//authority]path[?query][#fragment]\n",
    "```\n",
    "\n",
    "```\n",
    "https://www.nytimes.com/2019/10/15/world/europe/brexit-deal-boris-johnson-eu.html\n",
    "https://en.wikipedia.org/wiki/Web_scraping#Techniques\n",
    "```"
   ]
  },
  {
   "cell_type": "markdown",
   "metadata": {},
   "source": [
    "### Requests"
   ]
  },
  {
   "cell_type": "markdown",
   "metadata": {},
   "source": [
    "There are several ways to send a request to a webpage, among others you can do it with the package `requests`. As mentioned above, this package allows you to make **HTTP requests** very **easily** and **quickly**. It provides all functions and methods to write your **parameters** into requests, send you **requests** and work with your **responses**. \n",
    "\n",
    "Let us first **import** the **package** or install it if necessary. "
   ]
  },
  {
   "cell_type": "code",
   "execution_count": null,
   "metadata": {},
   "outputs": [],
   "source": [
    "import requests"
   ]
  },
  {
   "cell_type": "markdown",
   "metadata": {},
   "source": [
    "In our example with the articles of the [NY Times](https://www.nytimes.com/) we are interested in getting the **full texts** of **recent news articles**. The best way to understand requests is to prepare an **exemplary request** on some news articles. \n",
    "\n",
    "Let us define some article's **URL** in the variable `url`. Then we pass this variables into the **function** `requests.get()` to make the corresponding **request**. This request is best wrapped inside a `try` **statement**, e.g. to handle an **HTTP error** `requests.exceptions.HTTPError`. An **exception** will also be raised by the method `raise_for_status()` when the response contains an **invalid status**. "
   ]
  },
  {
   "cell_type": "code",
   "execution_count": null,
   "metadata": {},
   "outputs": [],
   "source": [
    "# define article\n",
    "url = \"https://www.nytimes.com/2019/10/15/world/europe/brexit-deal-boris-johnson-eu.html\"\n",
    "\n",
    "try:\n",
    "    # make request\n",
    "    response = requests.get(url)\n",
    "    # check response\n",
    "    response.raise_for_status()\n",
    "except requests.exceptions.HTTPError as e:\n",
    "    print(\"HTTPError: {}\".format(e))\n",
    "except Exception as e:\n",
    "    print(\"Error: {}\".format(e))"
   ]
  },
  {
   "cell_type": "markdown",
   "metadata": {},
   "source": [
    "If the request works and throws no exception, you can have a first look into the **response** with the attribute `content`. "
   ]
  },
  {
   "cell_type": "code",
   "execution_count": null,
   "metadata": {
    "scrolled": true
   },
   "outputs": [],
   "source": [
    "# inspect response\n",
    "print(response.content)"
   ]
  },
  {
   "cell_type": "markdown",
   "metadata": {},
   "source": [
    "<div class=\"alert alert-block alert-info\">\n",
    "    <b>Exercise</b>: Crawl from your list of URLs to articles of the <a href=\"https://www.nytimes.com/\">NY Times</a> the corresponding webpages. \n",
    "</div>"
   ]
  },
  {
   "cell_type": "code",
   "execution_count": null,
   "metadata": {},
   "outputs": [],
   "source": []
  },
  {
   "cell_type": "code",
   "execution_count": null,
   "metadata": {},
   "outputs": [],
   "source": []
  },
  {
   "cell_type": "markdown",
   "metadata": {},
   "source": [
    "<div class=\"alert alert-block alert-info\">\n",
    "    <b>Exercise</b>: Implement your crawler inside classes and methods which take the list of URLs and return the list of webpages. \n",
    "</div>"
   ]
  },
  {
   "cell_type": "code",
   "execution_count": null,
   "metadata": {},
   "outputs": [],
   "source": []
  },
  {
   "cell_type": "code",
   "execution_count": null,
   "metadata": {},
   "outputs": [],
   "source": []
  },
  {
   "cell_type": "markdown",
   "metadata": {},
   "source": [
    "### Responses"
   ]
  },
  {
   "cell_type": "markdown",
   "metadata": {},
   "source": [
    "After a **request** has been sent to a **webpage**, you will receive a **response** to it. This response consists of different information, i.e. a **status code**, a **header** and a **body**. If you have made your request with the package `requests`, then you can easily access these information. With the **attribute** `content` on the response, we can access its **body** again, but this time it is not in JSON but **HTML format** - a markup with opening tags `<tag>` and closing tags `</tag>`. \n",
    "\n",
    "What follows is a very simple **HTML document**. \n",
    "\n",
    "```\n",
    "<!DOCTYPE html>  \n",
    "<html>  \n",
    "    <head>\n",
    "    </head>\n",
    "    <body>\n",
    "        <h1> Title </h1>\n",
    "        <p> Full Text </p>\n",
    "    <body>\n",
    "</html>\n",
    "```"
   ]
  },
  {
   "cell_type": "markdown",
   "metadata": {},
   "source": [
    "In Python, you can **parse HTML** formatted strings with the use of the **package** `BeautifulSoup`. The package provides idiomatic ways of **navigating**, **searching**, and **modifying HTML**. In this way, we are aware of the structure und can extract certain information. \n",
    "\n",
    "Let us first **import** the **package** or install it if necessary. "
   ]
  },
  {
   "cell_type": "code",
   "execution_count": null,
   "metadata": {},
   "outputs": [],
   "source": [
    "from bs4 import BeautifulSoup"
   ]
  },
  {
   "cell_type": "markdown",
   "metadata": {},
   "source": [
    "To convert an **HTML string** into a `BeautifulSoup` object, we have to pass the **string** and the corresponding **parser** `html.parser` into the class `BeautifulSoup`. On this object we will have various **methods** available to work with the **HTML format**. First, we will print out a structured form of the HTML with the method `prettify()`. \n",
    "\n",
    "Let us **parse** one **webpage** with `BeautifulSoup`. "
   ]
  },
  {
   "cell_type": "code",
   "execution_count": null,
   "metadata": {
    "scrolled": true
   },
   "outputs": [],
   "source": [
    "# parse html \n",
    "soup = BeautifulSoup(webpages[3], \"html.parser\")\n",
    "\n",
    "# print structured html\n",
    "print(soup.prettify())"
   ]
  },
  {
   "cell_type": "markdown",
   "metadata": {},
   "source": [
    "Suppose you are now interested in a certain **information** in your **HTML string**. You can search for this information by its **tag** and **attributes**. For this, you can use the **method** `find()` which finds exactly **one tag** with the defined tag and attributes. However, if you want to find **all tags** that have the defined tag and attributes, then you better use the **method** `find_all()`. Afterwards, you can access the **actual text** behind these tags with the **method** `get_text()`. \n",
    "\n",
    "But before we can call these methods on our `BeautifulSoup` object, we first have to **find** out under which **tags** and **attributes** our **information** is hidden. The best way to do this is to open the corresponding **webpage** and **search** for the desired information. Once you have found it, you can **right-click** on it in your browser and select `Inspect` to see all the information about the underlying tag. If this method does not work for you, then you have to look into the HTML of the webpage and find the desired information by yourself. This can be done with `BeautifulSoup` together with `prettify()` or your own browser. \n",
    "\n",
    "Let us try to **access** the **full text** of one article. "
   ]
  },
  {
   "cell_type": "code",
   "execution_count": null,
   "metadata": {},
   "outputs": [],
   "source": [
    "# find tag with certain tag and class\n",
    "text = soup.find(\"p\", {\"class\": \"css-exrw3m evys1bk0\"})\n",
    "\n",
    "# print tag\n",
    "print(text)"
   ]
  },
  {
   "cell_type": "code",
   "execution_count": null,
   "metadata": {},
   "outputs": [],
   "source": [
    "# find all tags with certain tag and class\n",
    "paragraphs = soup.find_all(\"p\", {\"class\": \"css-exrw3m evys1bk0\"})\n",
    "\n",
    "# print number tags\n",
    "print(len(paragraphs))\n",
    "\n",
    "# append paragraphs to full text\n",
    "full_text = \" \".join(paragraph.get_text() for paragraph in paragraphs)\n",
    "\n",
    "# inspect full text\n",
    "print(full_text)"
   ]
  },
  {
   "cell_type": "markdown",
   "metadata": {},
   "source": [
    "<div class=\"alert alert-block alert-info\">\n",
    "    <b>Exercise</b>: Parse from your list of webpages of the <a href=\"https://www.nytimes.com/\">NY Times</a> the full texts and headlines. \n",
    "</div>"
   ]
  },
  {
   "cell_type": "code",
   "execution_count": null,
   "metadata": {
    "scrolled": true
   },
   "outputs": [],
   "source": []
  },
  {
   "cell_type": "code",
   "execution_count": null,
   "metadata": {},
   "outputs": [],
   "source": []
  },
  {
   "cell_type": "markdown",
   "metadata": {},
   "source": [
    "<div class=\"alert alert-block alert-info\">\n",
    "    <b>Exercise</b>: Implement your parser inside classes and methods which take the HTML and return the dates, titles and full texts. \n",
    "</div>"
   ]
  },
  {
   "cell_type": "code",
   "execution_count": null,
   "metadata": {},
   "outputs": [],
   "source": []
  },
  {
   "cell_type": "code",
   "execution_count": null,
   "metadata": {},
   "outputs": [],
   "source": []
  }
 ],
 "metadata": {
  "kernelspec": {
   "display_name": "Python 3",
   "language": "python",
   "name": "python3"
  },
  "language_info": {
   "codemirror_mode": {
    "name": "ipython",
    "version": 3
   },
   "file_extension": ".py",
   "mimetype": "text/x-python",
   "name": "python",
   "nbconvert_exporter": "python",
   "pygments_lexer": "ipython3",
   "version": "3.6.8"
  }
 },
 "nbformat": 4,
 "nbformat_minor": 4
}
