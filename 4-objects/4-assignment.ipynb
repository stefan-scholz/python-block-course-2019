{
 "cells": [
  {
   "cell_type": "markdown",
   "metadata": {},
   "source": [
    "# Python Block Course\n",
    "# Assignment 4: Object-oriented programming"
   ]
  },
  {
   "cell_type": "markdown",
   "metadata": {},
   "source": [
    "Prof. Dr. Karsten Donnay, Stefan Scholz\n",
    "\n",
    "Winter Term 2019 / 2020\n",
    "\n",
    "In this fourth assignment we will practice object-oriented programming in Python. You can score up to 15 points in this assignment. Please submit your solutions inside this notebook in your repository on GitHub. The deadline for submission is on Friday, October 18, 09:59 am. You will get individual feedback in your repository."
   ]
  },
  {
   "cell_type": "markdown",
   "metadata": {},
   "source": [
    "## 4.1 Blackjack"
   ]
  },
  {
   "cell_type": "markdown",
   "metadata": {},
   "source": [
    "You have planned to go out on Saturday to a casino with you friend Tony to play Blackjack. The Blackjack offered there is a Double Expose Variation where, unlike regular Blackjack, both dealer's cards are immediately dealt face up. You have already implemented the game with all its rules in Python. \n",
    "\n",
    "In addition, Tony has already told you which stategy he wants to play on Saturday. You have decided that you want to play better than Tony on Saturday, so you want to prepare you own strategy, such that you have more chips than Tony at the end of the night. You expect the dealer to have 10,000 chips, Tony and you 1,000 chips each at the beginning, and you will play a total of 5,000 games. "
   ]
  },
  {
   "cell_type": "code",
   "execution_count": null,
   "metadata": {},
   "outputs": [],
   "source": [
    "import random"
   ]
  },
  {
   "cell_type": "code",
   "execution_count": null,
   "metadata": {},
   "outputs": [],
   "source": [
    "class Card:\n",
    "    \"\"\"\n",
    "    Class Card\n",
    "    \"\"\"\n",
    "    \n",
    "    def __init__(self, rank, suit):\n",
    "        self.rank = rank\n",
    "        self.suit = suit\n",
    "        \n",
    "    def value(self):\n",
    "        if self.rank == \"A\":\n",
    "            return 11            \n",
    "        elif self.rank in [\"J\", \"Q\", \"K\"]:\n",
    "            return 10\n",
    "        else:\n",
    "            return int(self.rank)\n",
    "    \n",
    "    def __str__(self):\n",
    "        return self.rank + \"-\" + self.suit"
   ]
  },
  {
   "cell_type": "code",
   "execution_count": null,
   "metadata": {},
   "outputs": [],
   "source": [
    "class Deck:\n",
    "    \"\"\"\n",
    "    Class Deck\n",
    "    \"\"\"\n",
    "    \n",
    "    ranks = [\"2\", \"3\", \"4\", \"5\", \"6\", \"7\", \"8\", \"9\", \"10\", \"J\", \"Q\", \"K\", \"A\"]\n",
    "    suits = [\"Hearts\", \"Clubs\", \"Spades\", \"Diamonds\"]\n",
    "    \n",
    "    def __init__(self):\n",
    "        self.cards = []\n",
    "        for rank in self.ranks:\n",
    "            for suit in self.suits:\n",
    "                card = Card(rank, suit)\n",
    "                self.cards.append(card)\n",
    "                \n",
    "    def shuffle(self):\n",
    "        random.shuffle(self.cards)\n",
    "        \n",
    "    def draw_card(self):\n",
    "        if not self.cards:\n",
    "            raise Exception(\"Empty deck\")\n",
    "        card = self.cards.pop()\n",
    "        return card\n",
    "    \n",
    "    def __str__(self):\n",
    "        cards = []\n",
    "        for card in self.cards:\n",
    "            cards.append(str(card))\n",
    "        return str(cards)"
   ]
  },
  {
   "cell_type": "code",
   "execution_count": null,
   "metadata": {},
   "outputs": [],
   "source": [
    "class Hand:\n",
    "    \"\"\"\n",
    "    Class Hand\n",
    "    \"\"\"\n",
    "    \n",
    "    def __init__(self):\n",
    "        self.cards = []\n",
    "        self.value = 0\n",
    "        self.aces = 0\n",
    "        \n",
    "    def add_card(self, card):\n",
    "        self.cards.append(card)\n",
    "        self.value += card.value()\n",
    "        if card.rank == \"A\":\n",
    "            self.aces += 1\n",
    "            \n",
    "    def adjust_for_ace(self):\n",
    "        while self.value > 21 and self.aces:\n",
    "            self.value -= 10\n",
    "            self.aces -= 1"
   ]
  },
  {
   "cell_type": "code",
   "execution_count": null,
   "metadata": {},
   "outputs": [],
   "source": [
    "class Chips:\n",
    "    \"\"\"\n",
    "    Class Chips\n",
    "    \"\"\"\n",
    "    \n",
    "    def __init__(self, total):\n",
    "        self.total = total\n",
    "        self.bet = 1\n",
    "        \n",
    "    def win(self):\n",
    "        self.total += self.bet\n",
    "        \n",
    "    def lose(self):\n",
    "        self.total -= self.bet"
   ]
  },
  {
   "cell_type": "code",
   "execution_count": null,
   "metadata": {},
   "outputs": [],
   "source": [
    "class Player:\n",
    "    \"\"\"\n",
    "    Class Player\n",
    "    \"\"\"\n",
    "    \n",
    "    def __init__(self, name, chips):\n",
    "        self.name = name\n",
    "        self.chips = Chips(chips)\n",
    "        self.hand = []\n",
    "        \n",
    "    def play(self, deck, dealer):\n",
    "        raise NotImplementedError(\"Individual player must implement play\")\n",
    "            \n",
    "    def hit(self, deck):\n",
    "        self.hand.add_card(deck.draw_card())\n",
    "        self.hand.adjust_for_ace()\n",
    "        \n",
    "    def is_broke(self):\n",
    "        if self.chips.total < self.chips.bet:\n",
    "            return True\n",
    "        else:\n",
    "            return False\n",
    "        \n",
    "    def is_busted(self):\n",
    "        if self.hand.value > 21:\n",
    "            return True\n",
    "        else:\n",
    "            return False"
   ]
  },
  {
   "cell_type": "code",
   "execution_count": null,
   "metadata": {},
   "outputs": [],
   "source": [
    "class Dealer(Player):\n",
    "    \"\"\"\n",
    "    Class Dealer\n",
    "    \"\"\"\n",
    "        \n",
    "    def play(self, deck, dealer):\n",
    "        while True:\n",
    "            if self.hand.value < 17:\n",
    "                self.hit(deck)\n",
    "            else:\n",
    "                break"
   ]
  },
  {
   "cell_type": "code",
   "execution_count": null,
   "metadata": {},
   "outputs": [],
   "source": [
    "class Tony(Player):\n",
    "    \"\"\"\n",
    "    Class Tony\n",
    "    \"\"\"\n",
    "    \n",
    "    def play(self, deck, dealer):\n",
    "        while True:\n",
    "            if self.hand.value < dealer.hand.value:\n",
    "                self.hit(deck)\n",
    "            elif self.hand.aces:\n",
    "                if self.hand.value < 18:\n",
    "                    self.hit(deck)\n",
    "                else:\n",
    "                    break\n",
    "            else:\n",
    "                if self.hand.value > 17:\n",
    "                    break\n",
    "                else:\n",
    "                    self.hit(deck)"
   ]
  },
  {
   "cell_type": "code",
   "execution_count": null,
   "metadata": {},
   "outputs": [],
   "source": [
    "class Game:\n",
    "    \"\"\"\n",
    "    Class Game\n",
    "    \"\"\"\n",
    "    \n",
    "    def __init__(self, dealer, players):\n",
    "        self.dealer = dealer\n",
    "        self.players = players\n",
    "        self.deck = None\n",
    "        \n",
    "    def run(self):\n",
    "        # shuffle deck\n",
    "        self.deck = Deck()\n",
    "        self.deck.shuffle()\n",
    "        \n",
    "        # hand first cards\n",
    "        for player in [*self.players, self.dealer]:\n",
    "            if not player.is_broke():\n",
    "                player.hand = Hand()\n",
    "                player.hand.add_card(self.deck.draw_card())\n",
    "                player.hand.add_card(self.deck.draw_card())\n",
    "        \n",
    "        # give more cards\n",
    "        for player in [*self.players, self.dealer]:\n",
    "            if not player.is_broke():\n",
    "                if player.hand.value == 21:\n",
    "                    continue\n",
    "                else:\n",
    "                    player.play(self.deck, self.dealer)\n",
    "        \n",
    "        # pay out chips\n",
    "        for player in self.players:\n",
    "            if not player.is_broke():\n",
    "                if len(player.hand.cards) == 2 and player.hand.value == 21:\n",
    "                    self.dealer.chips.lose()\n",
    "                    player.chips.win()\n",
    "                elif player.is_busted():\n",
    "                    player.chips.lose()\n",
    "                    self.dealer.chips.win()\n",
    "                elif self.dealer.is_busted():\n",
    "                    self.dealer.chips.lose()\n",
    "                    player.chips.win()\n",
    "                else:\n",
    "                    if player.hand.value > self.dealer.hand.value:\n",
    "                        self.dealer.chips.lose()  \n",
    "                        player.chips.win() \n",
    "                    else:\n",
    "                        player.chips.lose()\n",
    "                        self.dealer.chips.win()"
   ]
  },
  {
   "cell_type": "markdown",
   "metadata": {},
   "source": [
    "<div class=\"alert alert-block alert-info\">\n",
    "    <b>Exercise (5 Points)</b>: Create your own class which is inherited from the class Player and named by you. Write in it a method play which is better than Tony's.\n",
    "</div>"
   ]
  },
  {
   "cell_type": "code",
   "execution_count": null,
   "metadata": {},
   "outputs": [],
   "source": []
  },
  {
   "cell_type": "code",
   "execution_count": null,
   "metadata": {},
   "outputs": [],
   "source": []
  },
  {
   "cell_type": "markdown",
   "metadata": {},
   "source": [
    "<div class=\"alert alert-block alert-info\">\n",
    "    <b>Exercise (8 Points)</b>: Verify that your strategy is actually better by simulating the whole evening. First create a seed. Create all players. Create a game. Play 5,000 games. Log for each game, its number, the current number of chips from Tony, and the current number of chips from you. \n",
    "</div>"
   ]
  },
  {
   "cell_type": "code",
   "execution_count": null,
   "metadata": {},
   "outputs": [],
   "source": []
  },
  {
   "cell_type": "code",
   "execution_count": null,
   "metadata": {},
   "outputs": [],
   "source": []
  },
  {
   "cell_type": "markdown",
   "metadata": {},
   "source": [
    "<div class=\"alert alert-block alert-info\">\n",
    "    <b>Exercise (2 Points)</b>: Visualize your simulation by drawing two lines with the number of chips from Tony and you along the games. Label your graph. Use the package matplotlib. \n",
    "</div>"
   ]
  },
  {
   "cell_type": "code",
   "execution_count": null,
   "metadata": {},
   "outputs": [],
   "source": []
  },
  {
   "cell_type": "code",
   "execution_count": null,
   "metadata": {},
   "outputs": [],
   "source": []
  }
 ],
 "metadata": {
  "kernelspec": {
   "display_name": "Python 3",
   "language": "python",
   "name": "python3"
  },
  "language_info": {
   "codemirror_mode": {
    "name": "ipython",
    "version": 3
   },
   "file_extension": ".py",
   "mimetype": "text/x-python",
   "name": "python",
   "nbconvert_exporter": "python",
   "pygments_lexer": "ipython3",
   "version": "3.6.8"
  }
 },
 "nbformat": 4,
 "nbformat_minor": 4
}
